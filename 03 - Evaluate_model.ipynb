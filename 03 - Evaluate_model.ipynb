{
 "cells": [
  {
   "cell_type": "code",
   "execution_count": 8,
   "id": "69b8c314",
   "metadata": {},
   "outputs": [],
   "source": [
    "import pandas as pd\n",
    "import plotly.io as pio\n",
    "\n",
    "# Set plotyly as the default plotting backend\n",
    "pd.options.plotting.backend = \"plotly\"\n",
    "pio.templates.default = \"plotly_dark\""
   ]
  },
  {
   "cell_type": "code",
   "execution_count": 9,
   "id": "4186296d",
   "metadata": {},
   "outputs": [
    {
     "data": {
      "text/plain": [
       "Index(['epoch', 'time', 'train/box_loss', 'train/seg_loss', 'train/cls_loss',\n",
       "       'train/dfl_loss', 'metrics/precision(B)', 'metrics/recall(B)',\n",
       "       'metrics/mAP50(B)', 'metrics/mAP50-95(B)', 'metrics/precision(M)',\n",
       "       'metrics/recall(M)', 'metrics/mAP50(M)', 'metrics/mAP50-95(M)',\n",
       "       'val/box_loss', 'val/seg_loss', 'val/cls_loss', 'val/dfl_loss',\n",
       "       'lr/pg0', 'lr/pg1', 'lr/pg2'],\n",
       "      dtype='object')"
      ]
     },
     "execution_count": 9,
     "metadata": {},
     "output_type": "execute_result"
    }
   ],
   "source": [
    "run = 'RUN_10'\n",
    "path_to_results = f'C:/Users/thoma/Documents/GitHub/WING_YOLO/runs/segment/{run}/results.csv'\n",
    "\n",
    "df = pd.read_csv(path_to_results)\n",
    "df.columns"
   ]
  },
  {
   "cell_type": "code",
   "execution_count": 22,
   "id": "6d5caa85",
   "metadata": {},
   "outputs": [
    {
     "data": {
      "application/vnd.plotly.v1+json": {
       "config": {
        "plotlyServerURL": "https://plot.ly"
       },
       "data": [
        {
         "hovertemplate": "variable=YOLO11s<br>index=%{x}<br>value=%{y}<extra></extra>",
         "legendgroup": "YOLO11s",
         "line": {
          "color": "#636efa",
          "dash": "solid"
         },
         "marker": {
          "symbol": "circle"
         },
         "mode": "lines",
         "name": "YOLO11s",
         "orientation": "v",
         "showlegend": true,
         "type": "scatter",
         "x": {
          "bdata": "AAECAwQFBgcICQoLDA0ODxAREhMUFRYXGBkaGxwdHh8gISIjJCUmJygpKissLS4vMDEyMzQ1Njc4OTo7PD0+P0BBQkNERUZHSElKS0xNTk9QUVJTVFVWV1hZWltcXV5fYGFiYw==",
          "dtype": "i1"
         },
         "xaxis": "x",
         "y": {
          "bdata": "YKsEi8OZzz9M/bypSIXTP1BwsaIG08Q/R8mrcwzIrj+0ccRafAqwP8H/VrJjI8w/Zw+0AkNWxz8+XHLcKR3SP9aLoZxoV9E/BoGVQ4ts0z+8y0V8J2bTPz8AqU2c3NU/u+1Cc51G3D+FlJ9U+3TcP4aPiCmRRN0/TkUqjC0E3z8YPiKmRBLhPzLmriXkg+A/8zy4O2u34D+DF30FacbhP3aJ6q2BreM/26LMBplk4z8hyEEJM23kP4eKcf4mFOI/gxd9BWnG4T/nqQ65GW7hP917uOS4U+I/rBxaZDvf4T+SlsrbEU7hP9JvXwfOGeM/VfZdEfxv4z9VwaikTkDkPwvvchHfieI/lialoNtL4z8st7QaEvfkPzbqIRrdQeM/OEpenWNA4j/qW+Z0WUzkP8X+snvysOQ/mbuWkA965T9f0hito6rlPwkbnl4py+U/avZAKzBk5j+amZmZmZnkPwTnjCjtDeQ/zywJUFPL4z/tZHCUvDrkPwoRcAhVauU/RDS6g9iZ5D+daFch5SflP7bbLjTXaeU/CoUIOIQq5T/HgOz17o/kP557D5ccd+Q/kx0bgXhd5T/tR4rIsIrmP6PMBplk5OQ/rvVFQlvO5D/2RUJbzqXkP2k6OxkcJeU/9GxWfa625T9z9Pi9TX/lPwx2w7ZFmeU/FFysqME05T/CL/XzpiLlPzdsW5TZIOY/bcoV3uUi5j/KMsSxLm7mP9Ei2/l+auU/S+XtCKcF5T8FFytqMA3lP0bT2cngKOU/EDtT6LzG5T9xVdl3RfDlP1PQ7SWN0eU/21Axzt+E5T8YCW05l+LlP90kBoGVQ+Y/4PPDCOHR5T8Uyy2thsTkP6Ay/n3GheU/l+Kqsu+K5T/v/nivWpnlP3h6pSxDHOY/OBCSBUzg5T+u8C4X8Z3lP+J1/YLdsOU/ti3KbJBJ5j9Of/YjRWTmP7xcxHdi1uY/Pu3w12SN5j/a4a/JGvXlP71vfO2ZJeY/wM+4cCAk5j9iSiTRyyjmPzPcgM8PI+Y/mrFoOjsZ5j/l7QinBS/mPzpY/+cwX+Y/Rl9BmrFo5j8=",
          "dtype": "f8"
         },
         "yaxis": "y"
        },
        {
         "hovertemplate": "variable=YOLO11n<br>index=%{x}<br>value=%{y}<extra></extra>",
         "legendgroup": "YOLO11n",
         "line": {
          "color": "#EF553B",
          "dash": "solid"
         },
         "marker": {
          "symbol": "circle"
         },
         "mode": "lines",
         "name": "YOLO11n",
         "orientation": "v",
         "showlegend": true,
         "type": "scatter",
         "x": {
          "bdata": "AAECAwQFBgcICQoLDA0ODxAREhMUFRYXGBkaGxwdHh8gISIjJCUmJygpKissLS4vMDEyMzQ1Njc4OTo7PD0+P0BBQkNERUZHSElKS0xNTk9QUVJTVFVWV1hZWltcXV5fYGFiYw==",
          "dtype": "i1"
         },
         "xaxis": "x",
         "y": {
          "bdata": "E36pnzcVxT+/1M+bilTMP1g5tMh2vtE/3jzVITfDzT8ZOQt72uHVP+nxe5v+7M8/YoTwaOOIxT8SoKaWrfXTP1jFG5lH/tY/C+9yEd+J1T8MyF7v/njbP8pPqn06Htc/BVH3AUht3D8jZ2FPO/zfP77Z5sb0hN0/8IrgfyvZ2z90B7Ezhc7iP+S9amXCL+E/ZDvfT42X4T+BCdy6m6fiP1bxRuaRP+M/VfZdEfxv4z9FDaZh+IjkP7oUV5V9V+Q/qiuf5Xlw4z8st7QaEvfjP9aLoZxoV+I/ahMn9zsU4z/ajxSRYRXiP9RDNLqD2OA/eqUsQxzr4D9AwcWKGkzhPwYv+grSjOE/Yr68APvo3j+GAyFZwATiP2JnCp3X2N0/UWaDTDJy4D8TSfQyiuXiP69Cyk+qfeM/Vg4tsp3v4T+s4o3MI3/jP7pm8s02N+Q/Dat4I/PI4z+V8e8zLhziPyfChqdXyuA/vMtFfCdm4z/AIVSp2QPkP6eRlsrbEeQ/IeUn1T4d5D+U2SCTjJzkP+AQqtTsgeQ/iEZ3EDtT5D8XghyUMNPjP3E486s5QOM//bypSIWx4z8wL8A+OnXkP/D5YYTwaOM/p3nHKTqS4j/BxYoaTMPjPxVXlX1XBOQ/7bsi+N9K4z+uga0SLA7jP1jnGJC93uM/Ad4CCYof5D/7V1aalILjPztwzojS3uM/x4Ds9e6P5T/JyFnY0w7lP0PnNXaJ6uQ/6bevA+eM5D8yWkdVE0TkP79IaMu5FOQ/4PPDCOHR4z+ppE5AE2HkPxEebRyxFuY/NbVsrS8S5j+Bzw8jhEflPzxmoDL+feU/d2fttgvN5T8Plxx3SgflP9RIS+XtCOQ/bosyG2SS4z89RKM7iJ3jP9sWZTbIJOQ//8pKk1LQ5T9qvHSTGATmP28Sg8DKoeU/NEsC1NSy5D8ZkL3e/fHkP+Z5cHfWbuU/1IIXfQVp5T81KQXdXtLkP/CiryDNWOU/ZTbIJCNn5T+C/61kx0blP/lOzHoxlOU/O+RmuAGf5T8PKJtyhXflP6uy74rgf+U/aam8HeG05T8=",
          "dtype": "f8"
         },
         "yaxis": "y"
        },
        {
         "hovertemplate": "variable=YOLO11l<br>index=%{x}<br>value=%{y}<extra></extra>",
         "legendgroup": "YOLO11l",
         "line": {
          "color": "#00cc96",
          "dash": "solid"
         },
         "marker": {
          "symbol": "circle"
         },
         "mode": "lines",
         "name": "YOLO11l",
         "orientation": "v",
         "showlegend": true,
         "type": "scatter",
         "x": {
          "bdata": "AAECAwQFBgcICQoLDA0ODxAREhMUFRYXGBkaGxwdHh8gISIjJCUmJygpKissLS4vMDEyMzQ1Njc4OTo7PD0+P0BBQkNERUZHSElKS0xNTk9QUVJTVFVWV1hZWltcXV5fYGFiYw==",
          "dtype": "i1"
         },
         "xaxis": "x",
         "y": {
          "bdata": "paDbSxqjyT/DDfj8MEKwP/Fo44i1+PQ+AAAAAAAAAACAn3HhQEhGP/Fo44i1+BQ/GOyGbYsyez+vCP63kh1rP0GasWg6O1k/8YCyKVd4dz8jFcYWghx0PxfxnZj1YsA/U9DtJY3Rmj+4QILix5jLPzarPldbscs/XqJ6a2Cr2j+8XMR3YtbVP4NpGD4ipt4/N45Yi08B3D/whclUwajcP9LGEWvxKd4/tvgUAOMZ4D8BTYQNT6/cP7STwVHy6t4/QpWaPdAK4T8O2xZlNsjcPzY8vVKWIeE/D7kZbsDn4D8gXtcv2A3hP3ehuU4jLeM/HJlH/mDg4j+3C811GmnkP30/NV66SeM/mfViKCfa4T+4I5wWvOjlP5pfzQGCOeM/nYU97fDX4j8eM1AZ/z7jP9IdxM4UOuM//kgRGVbx4T+cxCCwcmjiP+BKdmwE4uI/AK5kx0Yg5D/HaB1VTRDkPwqd19glquM/DAdCsoAJ4z+4I5wWvOjjP3V2MjhKXuQ/lGqfjscM5D8/dEF9y5zkP8xFfCdmveM/NUbrqGqC4j9+NQcI5ujiP90kBoGVQ+M/9fOmIhXG5D+Yo8fvbfrlP9ttF5rrNOU/ba0vEtpy5T+C597DJcfkP/NUh9wMN+U/6spneR7c5T8UeZJ0zeTlP5WCbi9pjOQ/0A8jhEcb5T8vi4nNx7XlP7lwICQLmOY/eqpDboYb5T/y7zMuHAjmPwte9BWkGec/Ece6uI0G5j//ykqTUtDlP1/SGK2jquU/8gcDz72H5D8na9RDNLrjP5dzKa4q++U/f2q8dJMY5T+Cyvj3GRfmP8E5I0p7g+Y/qg65GW7A5T9xWvCiryDlP61RD9HoDuU/+z+H+fIC5T/XEvJBz2blP12nkZbK2+U/9wZfmEwV5j/R6A5iZwrmP/naM0sC1OU/uY0G8BZI5j+zmNh8XBvmP7lTOlj/5+U/Hy457pQO5j/JAiZw627lP811GmmpvOU//U0oRMAh5j+4I5wWvOjlP+2BVmDI6uU/lxx3Sgfr5T/C+j+H+fLlP346HjNQGeY/roGtEiwO5j8=",
          "dtype": "f8"
         },
         "yaxis": "y"
        }
       ],
       "layout": {
        "legend": {
         "title": {
          "text": "variable"
         },
         "tracegroupgap": 0
        },
        "template": {
         "data": {
          "bar": [
           {
            "error_x": {
             "color": "#f2f5fa"
            },
            "error_y": {
             "color": "#f2f5fa"
            },
            "marker": {
             "line": {
              "color": "rgb(17,17,17)",
              "width": 0.5
             },
             "pattern": {
              "fillmode": "overlay",
              "size": 10,
              "solidity": 0.2
             }
            },
            "type": "bar"
           }
          ],
          "barpolar": [
           {
            "marker": {
             "line": {
              "color": "rgb(17,17,17)",
              "width": 0.5
             },
             "pattern": {
              "fillmode": "overlay",
              "size": 10,
              "solidity": 0.2
             }
            },
            "type": "barpolar"
           }
          ],
          "carpet": [
           {
            "aaxis": {
             "endlinecolor": "#A2B1C6",
             "gridcolor": "#506784",
             "linecolor": "#506784",
             "minorgridcolor": "#506784",
             "startlinecolor": "#A2B1C6"
            },
            "baxis": {
             "endlinecolor": "#A2B1C6",
             "gridcolor": "#506784",
             "linecolor": "#506784",
             "minorgridcolor": "#506784",
             "startlinecolor": "#A2B1C6"
            },
            "type": "carpet"
           }
          ],
          "choropleth": [
           {
            "colorbar": {
             "outlinewidth": 0,
             "ticks": ""
            },
            "type": "choropleth"
           }
          ],
          "contour": [
           {
            "colorbar": {
             "outlinewidth": 0,
             "ticks": ""
            },
            "colorscale": [
             [
              0,
              "#0d0887"
             ],
             [
              0.1111111111111111,
              "#46039f"
             ],
             [
              0.2222222222222222,
              "#7201a8"
             ],
             [
              0.3333333333333333,
              "#9c179e"
             ],
             [
              0.4444444444444444,
              "#bd3786"
             ],
             [
              0.5555555555555556,
              "#d8576b"
             ],
             [
              0.6666666666666666,
              "#ed7953"
             ],
             [
              0.7777777777777778,
              "#fb9f3a"
             ],
             [
              0.8888888888888888,
              "#fdca26"
             ],
             [
              1,
              "#f0f921"
             ]
            ],
            "type": "contour"
           }
          ],
          "contourcarpet": [
           {
            "colorbar": {
             "outlinewidth": 0,
             "ticks": ""
            },
            "type": "contourcarpet"
           }
          ],
          "heatmap": [
           {
            "colorbar": {
             "outlinewidth": 0,
             "ticks": ""
            },
            "colorscale": [
             [
              0,
              "#0d0887"
             ],
             [
              0.1111111111111111,
              "#46039f"
             ],
             [
              0.2222222222222222,
              "#7201a8"
             ],
             [
              0.3333333333333333,
              "#9c179e"
             ],
             [
              0.4444444444444444,
              "#bd3786"
             ],
             [
              0.5555555555555556,
              "#d8576b"
             ],
             [
              0.6666666666666666,
              "#ed7953"
             ],
             [
              0.7777777777777778,
              "#fb9f3a"
             ],
             [
              0.8888888888888888,
              "#fdca26"
             ],
             [
              1,
              "#f0f921"
             ]
            ],
            "type": "heatmap"
           }
          ],
          "histogram": [
           {
            "marker": {
             "pattern": {
              "fillmode": "overlay",
              "size": 10,
              "solidity": 0.2
             }
            },
            "type": "histogram"
           }
          ],
          "histogram2d": [
           {
            "colorbar": {
             "outlinewidth": 0,
             "ticks": ""
            },
            "colorscale": [
             [
              0,
              "#0d0887"
             ],
             [
              0.1111111111111111,
              "#46039f"
             ],
             [
              0.2222222222222222,
              "#7201a8"
             ],
             [
              0.3333333333333333,
              "#9c179e"
             ],
             [
              0.4444444444444444,
              "#bd3786"
             ],
             [
              0.5555555555555556,
              "#d8576b"
             ],
             [
              0.6666666666666666,
              "#ed7953"
             ],
             [
              0.7777777777777778,
              "#fb9f3a"
             ],
             [
              0.8888888888888888,
              "#fdca26"
             ],
             [
              1,
              "#f0f921"
             ]
            ],
            "type": "histogram2d"
           }
          ],
          "histogram2dcontour": [
           {
            "colorbar": {
             "outlinewidth": 0,
             "ticks": ""
            },
            "colorscale": [
             [
              0,
              "#0d0887"
             ],
             [
              0.1111111111111111,
              "#46039f"
             ],
             [
              0.2222222222222222,
              "#7201a8"
             ],
             [
              0.3333333333333333,
              "#9c179e"
             ],
             [
              0.4444444444444444,
              "#bd3786"
             ],
             [
              0.5555555555555556,
              "#d8576b"
             ],
             [
              0.6666666666666666,
              "#ed7953"
             ],
             [
              0.7777777777777778,
              "#fb9f3a"
             ],
             [
              0.8888888888888888,
              "#fdca26"
             ],
             [
              1,
              "#f0f921"
             ]
            ],
            "type": "histogram2dcontour"
           }
          ],
          "mesh3d": [
           {
            "colorbar": {
             "outlinewidth": 0,
             "ticks": ""
            },
            "type": "mesh3d"
           }
          ],
          "parcoords": [
           {
            "line": {
             "colorbar": {
              "outlinewidth": 0,
              "ticks": ""
             }
            },
            "type": "parcoords"
           }
          ],
          "pie": [
           {
            "automargin": true,
            "type": "pie"
           }
          ],
          "scatter": [
           {
            "marker": {
             "line": {
              "color": "#283442"
             }
            },
            "type": "scatter"
           }
          ],
          "scatter3d": [
           {
            "line": {
             "colorbar": {
              "outlinewidth": 0,
              "ticks": ""
             }
            },
            "marker": {
             "colorbar": {
              "outlinewidth": 0,
              "ticks": ""
             }
            },
            "type": "scatter3d"
           }
          ],
          "scattercarpet": [
           {
            "marker": {
             "colorbar": {
              "outlinewidth": 0,
              "ticks": ""
             }
            },
            "type": "scattercarpet"
           }
          ],
          "scattergeo": [
           {
            "marker": {
             "colorbar": {
              "outlinewidth": 0,
              "ticks": ""
             }
            },
            "type": "scattergeo"
           }
          ],
          "scattergl": [
           {
            "marker": {
             "line": {
              "color": "#283442"
             }
            },
            "type": "scattergl"
           }
          ],
          "scattermap": [
           {
            "marker": {
             "colorbar": {
              "outlinewidth": 0,
              "ticks": ""
             }
            },
            "type": "scattermap"
           }
          ],
          "scattermapbox": [
           {
            "marker": {
             "colorbar": {
              "outlinewidth": 0,
              "ticks": ""
             }
            },
            "type": "scattermapbox"
           }
          ],
          "scatterpolar": [
           {
            "marker": {
             "colorbar": {
              "outlinewidth": 0,
              "ticks": ""
             }
            },
            "type": "scatterpolar"
           }
          ],
          "scatterpolargl": [
           {
            "marker": {
             "colorbar": {
              "outlinewidth": 0,
              "ticks": ""
             }
            },
            "type": "scatterpolargl"
           }
          ],
          "scatterternary": [
           {
            "marker": {
             "colorbar": {
              "outlinewidth": 0,
              "ticks": ""
             }
            },
            "type": "scatterternary"
           }
          ],
          "surface": [
           {
            "colorbar": {
             "outlinewidth": 0,
             "ticks": ""
            },
            "colorscale": [
             [
              0,
              "#0d0887"
             ],
             [
              0.1111111111111111,
              "#46039f"
             ],
             [
              0.2222222222222222,
              "#7201a8"
             ],
             [
              0.3333333333333333,
              "#9c179e"
             ],
             [
              0.4444444444444444,
              "#bd3786"
             ],
             [
              0.5555555555555556,
              "#d8576b"
             ],
             [
              0.6666666666666666,
              "#ed7953"
             ],
             [
              0.7777777777777778,
              "#fb9f3a"
             ],
             [
              0.8888888888888888,
              "#fdca26"
             ],
             [
              1,
              "#f0f921"
             ]
            ],
            "type": "surface"
           }
          ],
          "table": [
           {
            "cells": {
             "fill": {
              "color": "#506784"
             },
             "line": {
              "color": "rgb(17,17,17)"
             }
            },
            "header": {
             "fill": {
              "color": "#2a3f5f"
             },
             "line": {
              "color": "rgb(17,17,17)"
             }
            },
            "type": "table"
           }
          ]
         },
         "layout": {
          "annotationdefaults": {
           "arrowcolor": "#f2f5fa",
           "arrowhead": 0,
           "arrowwidth": 1
          },
          "autotypenumbers": "strict",
          "coloraxis": {
           "colorbar": {
            "outlinewidth": 0,
            "ticks": ""
           }
          },
          "colorscale": {
           "diverging": [
            [
             0,
             "#8e0152"
            ],
            [
             0.1,
             "#c51b7d"
            ],
            [
             0.2,
             "#de77ae"
            ],
            [
             0.3,
             "#f1b6da"
            ],
            [
             0.4,
             "#fde0ef"
            ],
            [
             0.5,
             "#f7f7f7"
            ],
            [
             0.6,
             "#e6f5d0"
            ],
            [
             0.7,
             "#b8e186"
            ],
            [
             0.8,
             "#7fbc41"
            ],
            [
             0.9,
             "#4d9221"
            ],
            [
             1,
             "#276419"
            ]
           ],
           "sequential": [
            [
             0,
             "#0d0887"
            ],
            [
             0.1111111111111111,
             "#46039f"
            ],
            [
             0.2222222222222222,
             "#7201a8"
            ],
            [
             0.3333333333333333,
             "#9c179e"
            ],
            [
             0.4444444444444444,
             "#bd3786"
            ],
            [
             0.5555555555555556,
             "#d8576b"
            ],
            [
             0.6666666666666666,
             "#ed7953"
            ],
            [
             0.7777777777777778,
             "#fb9f3a"
            ],
            [
             0.8888888888888888,
             "#fdca26"
            ],
            [
             1,
             "#f0f921"
            ]
           ],
           "sequentialminus": [
            [
             0,
             "#0d0887"
            ],
            [
             0.1111111111111111,
             "#46039f"
            ],
            [
             0.2222222222222222,
             "#7201a8"
            ],
            [
             0.3333333333333333,
             "#9c179e"
            ],
            [
             0.4444444444444444,
             "#bd3786"
            ],
            [
             0.5555555555555556,
             "#d8576b"
            ],
            [
             0.6666666666666666,
             "#ed7953"
            ],
            [
             0.7777777777777778,
             "#fb9f3a"
            ],
            [
             0.8888888888888888,
             "#fdca26"
            ],
            [
             1,
             "#f0f921"
            ]
           ]
          },
          "colorway": [
           "#636efa",
           "#EF553B",
           "#00cc96",
           "#ab63fa",
           "#FFA15A",
           "#19d3f3",
           "#FF6692",
           "#B6E880",
           "#FF97FF",
           "#FECB52"
          ],
          "font": {
           "color": "#f2f5fa"
          },
          "geo": {
           "bgcolor": "rgb(17,17,17)",
           "lakecolor": "rgb(17,17,17)",
           "landcolor": "rgb(17,17,17)",
           "showlakes": true,
           "showland": true,
           "subunitcolor": "#506784"
          },
          "hoverlabel": {
           "align": "left"
          },
          "hovermode": "closest",
          "mapbox": {
           "style": "dark"
          },
          "paper_bgcolor": "rgb(17,17,17)",
          "plot_bgcolor": "rgb(17,17,17)",
          "polar": {
           "angularaxis": {
            "gridcolor": "#506784",
            "linecolor": "#506784",
            "ticks": ""
           },
           "bgcolor": "rgb(17,17,17)",
           "radialaxis": {
            "gridcolor": "#506784",
            "linecolor": "#506784",
            "ticks": ""
           }
          },
          "scene": {
           "xaxis": {
            "backgroundcolor": "rgb(17,17,17)",
            "gridcolor": "#506784",
            "gridwidth": 2,
            "linecolor": "#506784",
            "showbackground": true,
            "ticks": "",
            "zerolinecolor": "#C8D4E3"
           },
           "yaxis": {
            "backgroundcolor": "rgb(17,17,17)",
            "gridcolor": "#506784",
            "gridwidth": 2,
            "linecolor": "#506784",
            "showbackground": true,
            "ticks": "",
            "zerolinecolor": "#C8D4E3"
           },
           "zaxis": {
            "backgroundcolor": "rgb(17,17,17)",
            "gridcolor": "#506784",
            "gridwidth": 2,
            "linecolor": "#506784",
            "showbackground": true,
            "ticks": "",
            "zerolinecolor": "#C8D4E3"
           }
          },
          "shapedefaults": {
           "line": {
            "color": "#f2f5fa"
           }
          },
          "sliderdefaults": {
           "bgcolor": "#C8D4E3",
           "bordercolor": "rgb(17,17,17)",
           "borderwidth": 1,
           "tickwidth": 0
          },
          "ternary": {
           "aaxis": {
            "gridcolor": "#506784",
            "linecolor": "#506784",
            "ticks": ""
           },
           "baxis": {
            "gridcolor": "#506784",
            "linecolor": "#506784",
            "ticks": ""
           },
           "bgcolor": "rgb(17,17,17)",
           "caxis": {
            "gridcolor": "#506784",
            "linecolor": "#506784",
            "ticks": ""
           }
          },
          "title": {
           "x": 0.05
          },
          "updatemenudefaults": {
           "bgcolor": "#506784",
           "borderwidth": 0
          },
          "xaxis": {
           "automargin": true,
           "gridcolor": "#283442",
           "linecolor": "#506784",
           "ticks": "",
           "title": {
            "standoff": 15
           },
           "zerolinecolor": "#283442",
           "zerolinewidth": 2
          },
          "yaxis": {
           "automargin": true,
           "gridcolor": "#283442",
           "linecolor": "#506784",
           "ticks": "",
           "title": {
            "standoff": 15
           },
           "zerolinecolor": "#283442",
           "zerolinewidth": 2
          }
         }
        },
        "title": {
         "text": "mAP@50"
        },
        "xaxis": {
         "anchor": "y",
         "domain": [
          0,
          1
         ],
         "title": {
          "text": "index"
         }
        },
        "yaxis": {
         "anchor": "x",
         "domain": [
          0,
          1
         ],
         "title": {
          "text": "value"
         }
        }
       }
      }
     },
     "metadata": {},
     "output_type": "display_data"
    },
    {
     "data": {
      "application/vnd.plotly.v1+json": {
       "config": {
        "plotlyServerURL": "https://plot.ly"
       },
       "data": [
        {
         "hovertemplate": "variable=YOLO11s<br>index=%{x}<br>value=%{y}<extra></extra>",
         "legendgroup": "YOLO11s",
         "line": {
          "color": "#636efa",
          "dash": "solid"
         },
         "marker": {
          "symbol": "circle"
         },
         "mode": "lines",
         "name": "YOLO11s",
         "orientation": "v",
         "showlegend": true,
         "type": "scatter",
         "x": {
          "bdata": "AAECAwQFBgcICQoLDA0ODxAREhMUFRYXGBkaGxwdHh8gISIjJCUmJygpKissLS4vMDEyMzQ1Njc4OTo7PD0+P0BBQkNERUZHSElKS0xNTk9QUVJTVFVWV1hZWltcXV5fYGFiYw==",
          "dtype": "i1"
         },
         "xaxis": "x",
         "y": {
          "bdata": "P3RBfcucwj9Of/YjRWTEPwhyUMJM268/Wp4Hd2ftlj/EJced0sGaP7hAguLHmLM/pRR0e0ljtD9GfCdmvRjCP/sFu2HbosA/RwN4CyQowj9BguLHmLvCP7b4FADjGcQ/f6SIDKt4zz9hTzv8NVnPP5EsYAK37tA/2uGvyRr10D8AV7JjIxDTP8JpwYu+gtI/1QloImx40j9z1xLyQc/UP0ErMGR1q9c//B2KAn0i1z8qV3iXi/jYP1RXPsvz4NQ/B0KygAnc1D+ad5yiI7nUP0kRGVbxRtY/smMjEK/r1T9KRs7CnnbUP8Tr+gW7Ydc/yR8MPPce2D9JumbyzTbXP6vnpPeNr9U/+5Y5XRYT1z8ydy0hH/TYPxtHrMWnANg/rK3YX3ZP1j8gQfFjzF3ZP1WH3Aw34Nk/A0NWt3pO2j/vG197ZknaPxppqbwd4do/xEKtad5x3D9Xz0nvG1/ZP205l+Kqstk/1A5/Tdao2T8Tm49rQ8XaPx2PGaiMf9s/rHMMyF7v2j8mGTkLe9rZP2Rd3EYDeNs/UwWjkjoB2z+kNnFyv0PbPxE2PL1Slts/xFp8CoDx2j84FakwthDeP0sfuqC+Zdw/QX3LnC6L2z+6g9iZQufbP5bP8jy4O9s/tRoS91j63D9cOBCSBUzcPxNm2v6Vldw/GedvQiEC3D/aOGItPgXcP4AO8+UF2N0/qOMxA5Xx3T/9gt2wbVHePwyTqYJRSd0/xJRIopdR3D8yA5Xx7zPcP/5IERlW8dw/k+NO6WD93T+7uI0G8BbeP4xn0NA/wd0/ahMn9zsU3T8tPgXAeAbdPwOy17s/3t0/4GdcOBCS3T/MlxdgH53cP9Y5BmSvd90/kpbK2xFO3T9u3c1THXLdPyKOdXEbDd4/1NSytb5I3j9CeLRxxFreP0AYeO49XN4/GCZTBaOS3j8ge737473ePx5QNuUK794/dF5jl6je3j9PQBNhw9PdP/EpAMYzaN4/AK5kx0Yg3j8WTWcng6PeP1Exzt+EQt4/001iEFg53j9aKm9HOC3eP+YivhOzXt4/YabtX1lp3j8=",
          "dtype": "f8"
         },
         "yaxis": "y"
        },
        {
         "hovertemplate": "variable=YOLO11n<br>index=%{x}<br>value=%{y}<extra></extra>",
         "legendgroup": "YOLO11n",
         "line": {
          "color": "#EF553B",
          "dash": "solid"
         },
         "marker": {
          "symbol": "circle"
         },
         "mode": "lines",
         "name": "YOLO11n",
         "orientation": "v",
         "showlegend": true,
         "type": "scatter",
         "x": {
          "bdata": "AAECAwQFBgcICQoLDA0ODxAREhMUFRYXGBkaGxwdHh8gISIjJCUmJygpKissLS4vMDEyMzQ1Njc4OTo7PD0+P0BBQkNERUZHSElKS0xNTk9QUVJTVFVWV1hZWltcXV5fYGFiYw==",
          "dtype": "i1"
         },
         "xaxis": "x",
         "y": {
          "bdata": "LCtNSkG3tz8rhxbZzve7P06XxcTm48I/GhcOhGQBuz8hByXMtP3HPxdIUPwYc78/WfrQBfUtsz85RUdy+Q/FPxFwCFVq9sg/2v6VlSalxD+uDRXj/E3MP1X2XRH8b8k/Atnr3R/vzT8plltaDYnRP5BJRs7Cns4/EF1Q3zKnzz8EHEKVmj3WP+iHEcKjjdU/D0WBPpEn1T9pHVVNEHXVP6ipZWt9kdY/wCZr1EM02D//z2G+vADZP2jLuRRXldc/Rs7Cnnb41z/pfeNrzyzZP0yJJHoZxdQ/qDrkZrgB1z/mIr4Ts17WP2rBi76CNNU/HjNQGf8+1T+afLPNjenVP/3ZjxSRYdU/Pj+MEB5t0j9zLsVVZd/VP6SNI9biU9I/YU87/DVZ0z9Qqn06HjPYP28Sg8DKodc/Gw3gLZCg1j+E2JlC5zXYP44j1uJTANo/8Z2Y9WIo2T83N6YnLPHWP3rf+NozS9Y/NBE2PL1S2D9HWipvRzjZP4kHlE25wtk/p658lufB2T8ofoy5awnbP+F6FK5H4do/Jo3ROqqa2j9Ubw1slWDZPzElkuhlFNk/DhXj/E0o2j8LYwtBDkraPyOhLedSXNk/2NglqrcG2D/IDFTGv8/YP/xSP28qUtk/YB+duvJZ2D9MN4lBYOXYP557D5ccd9o/FVeVfVcE2z/a5sb0hCXaPzV7oBUYsto/21Axzt+E3D+PxwxUxr/bP/hrskY9RNs/ceZXc4Bg2j8Le9rhr8naP4zbaABvgdo/NSkF3V7S2j+xbVFmg0zaP3juPVxy3Ns/BVH3AUht3D+9NbBVgsXbP/mDgefew9s/pN++Dpwz3D8fgNQmTu7bP02+2ebG9No/3Xu45LhT2j8Z4lgXt9HaP/LSTWIQWNs/fJv+7EeK3D/WqIdodAfdP7vQXKeRltw/Tdaoh2h02z8mNh/XhorbP7gjnBa86Ns/ozuInSl03D8hWcAEbt3bP3SYLy/APtw//z7jwoGQ3D/ek4eFWtPcP+TaUDHO39w/4KEo0Cfy3D/RBfUtc7rcP5pC5zV2idw/OdGuQspP3D8=",
          "dtype": "f8"
         },
         "yaxis": "y"
        },
        {
         "hovertemplate": "variable=YOLO11l<br>index=%{x}<br>value=%{y}<extra></extra>",
         "legendgroup": "YOLO11l",
         "line": {
          "color": "#00cc96",
          "dash": "solid"
         },
         "marker": {
          "symbol": "circle"
         },
         "mode": "lines",
         "name": "YOLO11l",
         "orientation": "v",
         "showlegend": true,
         "type": "scatter",
         "x": {
          "bdata": "AAECAwQFBgcICQoLDA0ODxAREhMUFRYXGBkaGxwdHh8gISIjJCUmJygpKissLS4vMDEyMzQ1Njc4OTo7PD0+P0BBQkNERUZHSElKS0xNTk9QUVJTVFVWV1hZWltcXV5fYGFiYw==",
          "dtype": "i1"
         },
         "xaxis": "x",
         "y": {
          "bdata": "Y7SOqiaIuj/t9e6P96qVP/Fo44i1+OQ+AAAAAAAAAABpHVVNEHUfP2kdVU0Qdf8+14aKcf4mZD8DlfHvMy5MP9L7xteeWTI/S7A4nPnVXD/FjzF3LSFfP2k6OxkcJa8/HhZqTfOOgz9cctwpHay3P/j8MEJ4tLk/ZCMQr+sXzD9PBkfJq3PEPwKfH0YIj9A/9iNFZFjFzz+3tBoS91jOPwX6RJ4kXdE/6WUUyy2t0j8yA5Xx7zPQP8vW+iKhLdE/LLe0GhL31D/2tMNfkzXQP60XQznRrtQ/nWhXIeUn1T8wR4/f2/TTP/d14JwRpdc/SfQyiuWW1j+R8pNqn47ZP5nwS/28qdg/N3Fyv0NR1j+daFch5SfbP8ed0sH6P9c/o0CfyJOk1z8KndfYJarXPwE1tWytL9g/9dbAVgkW1T9lARO4dTfXP9/42jNLAtg/8fRKWYY42j9VpMLYQpDZP9F0djI4Stg/DjLJyFnY1z82qz5XW7HZP1cE/1vJjtk/IzKs4o3M1z9aKm9HOC3aP3Qprir7rto/yk+qfToe1z/9vKlIhbHXPxakGYums9c/fm/Tn/1I2z9seHqlLEPcPwtGJXUCmto/b0c4LXjR2z/Dnnb4a7LaP+M2GsBbIN0/TYQNT6+U3T8DQ1a3ek7cP6pla32R0No/VfZdEfxv2z+qmiDqPgDdP6uy74rgf90/OzYC8bp+2z9g5dAi2/ncP8MN+PwwQt4/NdJSeTvC2z9iFW9kHvnbP28NbJVgcdw/7uvAOSNK2z8dIJijx+/ZP1k0nZ0Mjtw/K8HicOZX2z+D3bBtUWbdP94CCYofY94/tqFinL8J3T8HsTOFzmvcP98a2CrB4tw/f2q8dJMY3D+693DJcafcP5FEL6NYbt0/XTP5Zpsb3T/5D+m3rwPdP5dWQ+IeS90/YeC593DJ3T+bVZ+rrdjdP1vOpbiq7N0/LLzLRXwn3j8iGt1B7EzdP+lDF9S3zN0/hCo1e6AV3j9uwOeHEcLdP16AfXTqyt0/priq7Lsi3j96qkNuhhveP37ja88sCd4/sAPnjCjt3T8=",
          "dtype": "f8"
         },
         "yaxis": "y"
        }
       ],
       "layout": {
        "legend": {
         "title": {
          "text": "variable"
         },
         "tracegroupgap": 0
        },
        "template": {
         "data": {
          "bar": [
           {
            "error_x": {
             "color": "#f2f5fa"
            },
            "error_y": {
             "color": "#f2f5fa"
            },
            "marker": {
             "line": {
              "color": "rgb(17,17,17)",
              "width": 0.5
             },
             "pattern": {
              "fillmode": "overlay",
              "size": 10,
              "solidity": 0.2
             }
            },
            "type": "bar"
           }
          ],
          "barpolar": [
           {
            "marker": {
             "line": {
              "color": "rgb(17,17,17)",
              "width": 0.5
             },
             "pattern": {
              "fillmode": "overlay",
              "size": 10,
              "solidity": 0.2
             }
            },
            "type": "barpolar"
           }
          ],
          "carpet": [
           {
            "aaxis": {
             "endlinecolor": "#A2B1C6",
             "gridcolor": "#506784",
             "linecolor": "#506784",
             "minorgridcolor": "#506784",
             "startlinecolor": "#A2B1C6"
            },
            "baxis": {
             "endlinecolor": "#A2B1C6",
             "gridcolor": "#506784",
             "linecolor": "#506784",
             "minorgridcolor": "#506784",
             "startlinecolor": "#A2B1C6"
            },
            "type": "carpet"
           }
          ],
          "choropleth": [
           {
            "colorbar": {
             "outlinewidth": 0,
             "ticks": ""
            },
            "type": "choropleth"
           }
          ],
          "contour": [
           {
            "colorbar": {
             "outlinewidth": 0,
             "ticks": ""
            },
            "colorscale": [
             [
              0,
              "#0d0887"
             ],
             [
              0.1111111111111111,
              "#46039f"
             ],
             [
              0.2222222222222222,
              "#7201a8"
             ],
             [
              0.3333333333333333,
              "#9c179e"
             ],
             [
              0.4444444444444444,
              "#bd3786"
             ],
             [
              0.5555555555555556,
              "#d8576b"
             ],
             [
              0.6666666666666666,
              "#ed7953"
             ],
             [
              0.7777777777777778,
              "#fb9f3a"
             ],
             [
              0.8888888888888888,
              "#fdca26"
             ],
             [
              1,
              "#f0f921"
             ]
            ],
            "type": "contour"
           }
          ],
          "contourcarpet": [
           {
            "colorbar": {
             "outlinewidth": 0,
             "ticks": ""
            },
            "type": "contourcarpet"
           }
          ],
          "heatmap": [
           {
            "colorbar": {
             "outlinewidth": 0,
             "ticks": ""
            },
            "colorscale": [
             [
              0,
              "#0d0887"
             ],
             [
              0.1111111111111111,
              "#46039f"
             ],
             [
              0.2222222222222222,
              "#7201a8"
             ],
             [
              0.3333333333333333,
              "#9c179e"
             ],
             [
              0.4444444444444444,
              "#bd3786"
             ],
             [
              0.5555555555555556,
              "#d8576b"
             ],
             [
              0.6666666666666666,
              "#ed7953"
             ],
             [
              0.7777777777777778,
              "#fb9f3a"
             ],
             [
              0.8888888888888888,
              "#fdca26"
             ],
             [
              1,
              "#f0f921"
             ]
            ],
            "type": "heatmap"
           }
          ],
          "histogram": [
           {
            "marker": {
             "pattern": {
              "fillmode": "overlay",
              "size": 10,
              "solidity": 0.2
             }
            },
            "type": "histogram"
           }
          ],
          "histogram2d": [
           {
            "colorbar": {
             "outlinewidth": 0,
             "ticks": ""
            },
            "colorscale": [
             [
              0,
              "#0d0887"
             ],
             [
              0.1111111111111111,
              "#46039f"
             ],
             [
              0.2222222222222222,
              "#7201a8"
             ],
             [
              0.3333333333333333,
              "#9c179e"
             ],
             [
              0.4444444444444444,
              "#bd3786"
             ],
             [
              0.5555555555555556,
              "#d8576b"
             ],
             [
              0.6666666666666666,
              "#ed7953"
             ],
             [
              0.7777777777777778,
              "#fb9f3a"
             ],
             [
              0.8888888888888888,
              "#fdca26"
             ],
             [
              1,
              "#f0f921"
             ]
            ],
            "type": "histogram2d"
           }
          ],
          "histogram2dcontour": [
           {
            "colorbar": {
             "outlinewidth": 0,
             "ticks": ""
            },
            "colorscale": [
             [
              0,
              "#0d0887"
             ],
             [
              0.1111111111111111,
              "#46039f"
             ],
             [
              0.2222222222222222,
              "#7201a8"
             ],
             [
              0.3333333333333333,
              "#9c179e"
             ],
             [
              0.4444444444444444,
              "#bd3786"
             ],
             [
              0.5555555555555556,
              "#d8576b"
             ],
             [
              0.6666666666666666,
              "#ed7953"
             ],
             [
              0.7777777777777778,
              "#fb9f3a"
             ],
             [
              0.8888888888888888,
              "#fdca26"
             ],
             [
              1,
              "#f0f921"
             ]
            ],
            "type": "histogram2dcontour"
           }
          ],
          "mesh3d": [
           {
            "colorbar": {
             "outlinewidth": 0,
             "ticks": ""
            },
            "type": "mesh3d"
           }
          ],
          "parcoords": [
           {
            "line": {
             "colorbar": {
              "outlinewidth": 0,
              "ticks": ""
             }
            },
            "type": "parcoords"
           }
          ],
          "pie": [
           {
            "automargin": true,
            "type": "pie"
           }
          ],
          "scatter": [
           {
            "marker": {
             "line": {
              "color": "#283442"
             }
            },
            "type": "scatter"
           }
          ],
          "scatter3d": [
           {
            "line": {
             "colorbar": {
              "outlinewidth": 0,
              "ticks": ""
             }
            },
            "marker": {
             "colorbar": {
              "outlinewidth": 0,
              "ticks": ""
             }
            },
            "type": "scatter3d"
           }
          ],
          "scattercarpet": [
           {
            "marker": {
             "colorbar": {
              "outlinewidth": 0,
              "ticks": ""
             }
            },
            "type": "scattercarpet"
           }
          ],
          "scattergeo": [
           {
            "marker": {
             "colorbar": {
              "outlinewidth": 0,
              "ticks": ""
             }
            },
            "type": "scattergeo"
           }
          ],
          "scattergl": [
           {
            "marker": {
             "line": {
              "color": "#283442"
             }
            },
            "type": "scattergl"
           }
          ],
          "scattermap": [
           {
            "marker": {
             "colorbar": {
              "outlinewidth": 0,
              "ticks": ""
             }
            },
            "type": "scattermap"
           }
          ],
          "scattermapbox": [
           {
            "marker": {
             "colorbar": {
              "outlinewidth": 0,
              "ticks": ""
             }
            },
            "type": "scattermapbox"
           }
          ],
          "scatterpolar": [
           {
            "marker": {
             "colorbar": {
              "outlinewidth": 0,
              "ticks": ""
             }
            },
            "type": "scatterpolar"
           }
          ],
          "scatterpolargl": [
           {
            "marker": {
             "colorbar": {
              "outlinewidth": 0,
              "ticks": ""
             }
            },
            "type": "scatterpolargl"
           }
          ],
          "scatterternary": [
           {
            "marker": {
             "colorbar": {
              "outlinewidth": 0,
              "ticks": ""
             }
            },
            "type": "scatterternary"
           }
          ],
          "surface": [
           {
            "colorbar": {
             "outlinewidth": 0,
             "ticks": ""
            },
            "colorscale": [
             [
              0,
              "#0d0887"
             ],
             [
              0.1111111111111111,
              "#46039f"
             ],
             [
              0.2222222222222222,
              "#7201a8"
             ],
             [
              0.3333333333333333,
              "#9c179e"
             ],
             [
              0.4444444444444444,
              "#bd3786"
             ],
             [
              0.5555555555555556,
              "#d8576b"
             ],
             [
              0.6666666666666666,
              "#ed7953"
             ],
             [
              0.7777777777777778,
              "#fb9f3a"
             ],
             [
              0.8888888888888888,
              "#fdca26"
             ],
             [
              1,
              "#f0f921"
             ]
            ],
            "type": "surface"
           }
          ],
          "table": [
           {
            "cells": {
             "fill": {
              "color": "#506784"
             },
             "line": {
              "color": "rgb(17,17,17)"
             }
            },
            "header": {
             "fill": {
              "color": "#2a3f5f"
             },
             "line": {
              "color": "rgb(17,17,17)"
             }
            },
            "type": "table"
           }
          ]
         },
         "layout": {
          "annotationdefaults": {
           "arrowcolor": "#f2f5fa",
           "arrowhead": 0,
           "arrowwidth": 1
          },
          "autotypenumbers": "strict",
          "coloraxis": {
           "colorbar": {
            "outlinewidth": 0,
            "ticks": ""
           }
          },
          "colorscale": {
           "diverging": [
            [
             0,
             "#8e0152"
            ],
            [
             0.1,
             "#c51b7d"
            ],
            [
             0.2,
             "#de77ae"
            ],
            [
             0.3,
             "#f1b6da"
            ],
            [
             0.4,
             "#fde0ef"
            ],
            [
             0.5,
             "#f7f7f7"
            ],
            [
             0.6,
             "#e6f5d0"
            ],
            [
             0.7,
             "#b8e186"
            ],
            [
             0.8,
             "#7fbc41"
            ],
            [
             0.9,
             "#4d9221"
            ],
            [
             1,
             "#276419"
            ]
           ],
           "sequential": [
            [
             0,
             "#0d0887"
            ],
            [
             0.1111111111111111,
             "#46039f"
            ],
            [
             0.2222222222222222,
             "#7201a8"
            ],
            [
             0.3333333333333333,
             "#9c179e"
            ],
            [
             0.4444444444444444,
             "#bd3786"
            ],
            [
             0.5555555555555556,
             "#d8576b"
            ],
            [
             0.6666666666666666,
             "#ed7953"
            ],
            [
             0.7777777777777778,
             "#fb9f3a"
            ],
            [
             0.8888888888888888,
             "#fdca26"
            ],
            [
             1,
             "#f0f921"
            ]
           ],
           "sequentialminus": [
            [
             0,
             "#0d0887"
            ],
            [
             0.1111111111111111,
             "#46039f"
            ],
            [
             0.2222222222222222,
             "#7201a8"
            ],
            [
             0.3333333333333333,
             "#9c179e"
            ],
            [
             0.4444444444444444,
             "#bd3786"
            ],
            [
             0.5555555555555556,
             "#d8576b"
            ],
            [
             0.6666666666666666,
             "#ed7953"
            ],
            [
             0.7777777777777778,
             "#fb9f3a"
            ],
            [
             0.8888888888888888,
             "#fdca26"
            ],
            [
             1,
             "#f0f921"
            ]
           ]
          },
          "colorway": [
           "#636efa",
           "#EF553B",
           "#00cc96",
           "#ab63fa",
           "#FFA15A",
           "#19d3f3",
           "#FF6692",
           "#B6E880",
           "#FF97FF",
           "#FECB52"
          ],
          "font": {
           "color": "#f2f5fa"
          },
          "geo": {
           "bgcolor": "rgb(17,17,17)",
           "lakecolor": "rgb(17,17,17)",
           "landcolor": "rgb(17,17,17)",
           "showlakes": true,
           "showland": true,
           "subunitcolor": "#506784"
          },
          "hoverlabel": {
           "align": "left"
          },
          "hovermode": "closest",
          "mapbox": {
           "style": "dark"
          },
          "paper_bgcolor": "rgb(17,17,17)",
          "plot_bgcolor": "rgb(17,17,17)",
          "polar": {
           "angularaxis": {
            "gridcolor": "#506784",
            "linecolor": "#506784",
            "ticks": ""
           },
           "bgcolor": "rgb(17,17,17)",
           "radialaxis": {
            "gridcolor": "#506784",
            "linecolor": "#506784",
            "ticks": ""
           }
          },
          "scene": {
           "xaxis": {
            "backgroundcolor": "rgb(17,17,17)",
            "gridcolor": "#506784",
            "gridwidth": 2,
            "linecolor": "#506784",
            "showbackground": true,
            "ticks": "",
            "zerolinecolor": "#C8D4E3"
           },
           "yaxis": {
            "backgroundcolor": "rgb(17,17,17)",
            "gridcolor": "#506784",
            "gridwidth": 2,
            "linecolor": "#506784",
            "showbackground": true,
            "ticks": "",
            "zerolinecolor": "#C8D4E3"
           },
           "zaxis": {
            "backgroundcolor": "rgb(17,17,17)",
            "gridcolor": "#506784",
            "gridwidth": 2,
            "linecolor": "#506784",
            "showbackground": true,
            "ticks": "",
            "zerolinecolor": "#C8D4E3"
           }
          },
          "shapedefaults": {
           "line": {
            "color": "#f2f5fa"
           }
          },
          "sliderdefaults": {
           "bgcolor": "#C8D4E3",
           "bordercolor": "rgb(17,17,17)",
           "borderwidth": 1,
           "tickwidth": 0
          },
          "ternary": {
           "aaxis": {
            "gridcolor": "#506784",
            "linecolor": "#506784",
            "ticks": ""
           },
           "baxis": {
            "gridcolor": "#506784",
            "linecolor": "#506784",
            "ticks": ""
           },
           "bgcolor": "rgb(17,17,17)",
           "caxis": {
            "gridcolor": "#506784",
            "linecolor": "#506784",
            "ticks": ""
           }
          },
          "title": {
           "x": 0.05
          },
          "updatemenudefaults": {
           "bgcolor": "#506784",
           "borderwidth": 0
          },
          "xaxis": {
           "automargin": true,
           "gridcolor": "#283442",
           "linecolor": "#506784",
           "ticks": "",
           "title": {
            "standoff": 15
           },
           "zerolinecolor": "#283442",
           "zerolinewidth": 2
          },
          "yaxis": {
           "automargin": true,
           "gridcolor": "#283442",
           "linecolor": "#506784",
           "ticks": "",
           "title": {
            "standoff": 15
           },
           "zerolinecolor": "#283442",
           "zerolinewidth": 2
          }
         }
        },
        "title": {
         "text": "mAP@50-95"
        },
        "xaxis": {
         "anchor": "y",
         "domain": [
          0,
          1
         ],
         "title": {
          "text": "index"
         }
        },
        "yaxis": {
         "anchor": "x",
         "domain": [
          0,
          1
         ],
         "title": {
          "text": "value"
         }
        }
       }
      }
     },
     "metadata": {},
     "output_type": "display_data"
    }
   ],
   "source": [
    "runs_dict = {\n",
    "    'RUN_10': 'YOLO11s',\n",
    "    'RUN_11': 'YOLO11n',\n",
    "    'RUN_12': 'YOLO11l',\n",
    "}\n",
    "\n",
    "df_mAP50 = pd.DataFrame()\n",
    "df_mAP50_95 = pd.DataFrame()\n",
    "\n",
    "# Load results from multiple runs\n",
    "for key, value in runs_dict.items():\n",
    "    path_to_results = f'C:/Users/thoma/Documents/GitHub/WING_YOLO/runs/segment/{key}/results.csv'\n",
    "    df = pd.read_csv(path_to_results)\n",
    "\n",
    "    df_mAP50[value] = df['metrics/mAP50(M)']\n",
    "    df_mAP50_95[value] = df['metrics/mAP50-95(M)']\n",
    "\n",
    "# Plot the results\n",
    "df_mAP50.plot(title='mAP@50').show()\n",
    "df_mAP50_95.plot(title='mAP@50-95').show()"
   ]
  },
  {
   "cell_type": "code",
   "execution_count": 20,
   "id": "b26418c9",
   "metadata": {},
   "outputs": [
    {
     "name": "stdout",
     "output_type": "stream",
     "text": [
      "Processing RUN_10 with name Run 10\n",
      "Processing RUN_11 with name Run 11\n",
      "Processing RUN_12 with name Run 12\n"
     ]
    }
   ],
   "source": [
    "# loop over key and value pairs in runs_dict\n",
    "for key, value in runs_dict.items():\n",
    "    print(f'Processing {key} with name {value}')"
   ]
  },
  {
   "cell_type": "code",
   "execution_count": null,
   "id": "947ca9c6",
   "metadata": {},
   "outputs": [],
   "source": []
  }
 ],
 "metadata": {
  "kernelspec": {
   "display_name": ".venv",
   "language": "python",
   "name": "python3"
  },
  "language_info": {
   "codemirror_mode": {
    "name": "ipython",
    "version": 3
   },
   "file_extension": ".py",
   "mimetype": "text/x-python",
   "name": "python",
   "nbconvert_exporter": "python",
   "pygments_lexer": "ipython3",
   "version": "3.12.4"
  }
 },
 "nbformat": 4,
 "nbformat_minor": 5
}
