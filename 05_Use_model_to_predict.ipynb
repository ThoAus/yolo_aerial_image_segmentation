{
 "cells": [
  {
   "cell_type": "code",
   "execution_count": 22,
   "id": "cbe10111",
   "metadata": {},
   "outputs": [],
   "source": [
    "from types import SimpleNamespace\n",
    "from pathlib import Path\n",
    "from owslib.wms import WebMapService\n",
    "from tqdm import tqdm\n",
    "import torch\n",
    "\n",
    "from ultralytics import YOLO\n",
    "\n",
    "from PIL import Image\n",
    "\n",
    "CFG = SimpleNamespace()"
   ]
  },
  {
   "cell_type": "markdown",
   "id": "b8ca6968",
   "metadata": {},
   "source": [
    "# 00 - Define functions"
   ]
  },
  {
   "cell_type": "code",
   "execution_count": 23,
   "id": "75dd2334",
   "metadata": {},
   "outputs": [],
   "source": [
    "def load_and_save_images_from_wms(\n",
    "        url: str,\n",
    "        layer_name: str,\n",
    "        coords_center: tuple,\n",
    "        img_size: tuple,\n",
    "        resolution: float,\n",
    "        path: Path,\n",
    "        filename: str,\n",
    "        return_image_object: bool = False,\n",
    "        ):\n",
    "    \"\"\"\n",
    "    Load an image from a WMS server and save it to a file with a world file for georeferencing.\n",
    "    Inputs:\n",
    "        url (str): The URL of the WMS server.\n",
    "        layer_name (str): The name of the layer to retrieve.\n",
    "        coords_center (tuple): The center coordinates (longitude, latitude) for the image.\n",
    "        img_size (tuple): The size of the image in pixels (width, height).\n",
    "        resolution (float): The resolution of the image in meters per pixel.\n",
    "        path (Path): The directory where the image and world file will be saved.\n",
    "        filename (str): The base name for the output files.\n",
    "        return_image_object (bool): If True, returns the image as a PIL Image object instead of saving it to a file.\n",
    "    Outputs:\n",
    "        Saves a JPEG image and a world file in the specified directory.\n",
    "    \"\"\"\n",
    "    # Ensure the output directory exists\n",
    "    path.mkdir(parents=True, exist_ok=True)\n",
    "\n",
    "    # Calculate the bounding box based on the center coordinates, image size, and resolution\n",
    "    x_min = coords_center[0] - (img_size[0] * resolution) / 2\n",
    "    x_max = coords_center[0] + (img_size[0] * resolution) / 2\n",
    "    y_min = coords_center[1] - (img_size[1] * resolution) / 2\n",
    "    y_max = coords_center[1] + (img_size[1] * resolution) / 2\n",
    "\n",
    "    # For debugging purposes, print the bounding box coordinates\n",
    "    print(f\"Bounding box coordinates: ({x_min}, {y_min}, {x_max}, {y_max})\")\n",
    "\n",
    "    # Get the image from the WMS server\n",
    "    wms = WebMapService(url)\n",
    "    img = wms.getmap(\n",
    "        layers=[layer_name],\n",
    "        srs='EPSG:3857', # Web Mercator\n",
    "        bbox=(x_min, y_min, x_max, y_max),\n",
    "        size=img_size,\n",
    "        format='image/jpeg',\n",
    "        transparent=True,\n",
    "        )\n",
    "    \n",
    "    # Create a world file for georeferencing\n",
    "    world_file_content = f\"{resolution}\\n0.0\\n0.0\\n-{resolution}\\n{x_min}\\n{y_max}\\n\"\n",
    "    world_file_path = path / f'{filename}.pgw'\n",
    "    with open(world_file_path, 'w') as world_file:\n",
    "        world_file.write(world_file_content)\n",
    "    \n",
    "    if return_image_object:\n",
    "        # Convert the image to a PIL Image object and return it\n",
    "        return Image.open(img)\n",
    "        print(type(img))\n",
    "\n",
    "    elif not return_image_object:\n",
    "        # If not returning the image object, write the image to a file\n",
    "        out = open(path / f'{filename}.jpg', 'wb')\n",
    "        out.write(img.read())\n",
    "        out.close()"
   ]
  },
  {
   "cell_type": "code",
   "execution_count": 24,
   "id": "c09a32fd",
   "metadata": {},
   "outputs": [],
   "source": [
    "def make_prediction_and_save_mask_from_pil(\n",
    "        image: Image.Image,\n",
    "        model,\n",
    "        output_dir: Path,\n",
    "        image_name: str,\n",
    "        ):\n",
    "    \"\"\"\n",
    "    Predicts and saves the combined mask for a given PIL image using a YOLO model.\n",
    "    \n",
    "    Args:\n",
    "        image (PIL.Image.Image): Input image.\n",
    "        model: YOLO model object.\n",
    "        output_dir (Path): Directory to save the mask.\n",
    "        image_name (str): Name for the output mask file (without extension).\n",
    "    \"\"\"\n",
    "    # Ensure the output directory exists\n",
    "    output_dir.mkdir(exist_ok=True)\n",
    "\n",
    "    # Make predictions using the YOLO model\n",
    "    results = model.predict(\n",
    "        source=image,\n",
    "        verbose=False,\n",
    "        )\n",
    "    \n",
    "    # Extract and combine masks from predictions and save them\n",
    "    class_values = {0: 100, 1: 255}  # Define class values\n",
    "\n",
    "    # Iterate through the predictions\n",
    "    for pred in results:\n",
    "        if pred.masks is not None:\n",
    "            masks = pred.masks.data  # shape: (num_instances, H, W)\n",
    "            class_ids = pred.boxes.cls.int().cpu().numpy()  # Get class IDs for each mask\n",
    "\n",
    "            combined_mask = torch.zeros(masks.shape[1], masks.shape[2], dtype=torch.uint8)  # Initialize combined mask\n",
    "\n",
    "            # Iterate through each mask and its corresponding class ID\n",
    "            for i, mask in enumerate(masks):\n",
    "                class_id = class_ids[i]\n",
    "                if class_id in class_values:\n",
    "                    # Convert mask to boolean to use as an index\n",
    "                    mask = mask.bool()\n",
    "                    combined_mask[mask] = class_values[class_id]  # Set pixel value based on class\n",
    "\n",
    "            mask_img = Image.fromarray(combined_mask.numpy())  # Create image from combined mask\n",
    "            mask_img.save(output_dir / f\"{image_name}.png\")  # Save the image\n",
    "\n",
    "\n",
    "    # for pred in results:\n",
    "    #     if pred.masks is not None:\n",
    "    #         masks = pred.masks.data  # shape: (num_instances, H, W)\n",
    "    #         combined_mask = (masks.sum(dim=0) > 0).byte()\n",
    "    #         mask_img = Image.fromarray((combined_mask.cpu().numpy() * 255).astype('uint8'))\n",
    "    #         mask_img.save(output_dir / f\"{image_name}.png\")"
   ]
  },
  {
   "cell_type": "markdown",
   "id": "c95c1e51",
   "metadata": {},
   "source": [
    "# 01 - Download image and make prediction"
   ]
  },
  {
   "cell_type": "markdown",
   "id": "79d66699",
   "metadata": {},
   "source": [
    "### Configuration for downloading data"
   ]
  },
  {
   "cell_type": "code",
   "execution_count": 25,
   "id": "027225a2",
   "metadata": {},
   "outputs": [],
   "source": [
    "CFG.WMS_URL = 'http://geoservices.buergernetz.bz.it/mapproxy/root/ows?'\n",
    "CFG.RESOLUTION = 0.2\n",
    "CFG.LAYER_NAME = 'p_bz-Orthoimagery:Aerial-2023-RGB' #'p_bz-Orthoimagery:Aerial-2014-RGB' #'p_bz-Orthoimagery:Aerial-2020-RGB', \n",
    "CFG.IMG_SIZE = (640, 640)\n",
    "\n",
    "# Set the raster size and center in Pseudo-Mercator coordinates (EPSG:3857)\n",
    "CFG.AEREA_LEFT_BOTTOM_COORDS = (1233023, 5870474)\n",
    "CFG.RASTER_SIZE = (1, 1)  # Number of images in x and y direction\n",
    "\n",
    "CFG.PATH_TO_OUTPUT_DIR = Path().cwd() / 'predicted_masks'\n",
    "CFG.DELETE_EXISTING = True  # Set to True to delete existing files in the output directory\n",
    "\n",
    "# Select the model and load it\n",
    "CFG.PATH_TO_MODEL = 'models/yolo11m_250imgs_100epochs_best.pt'\n",
    "model = YOLO(CFG.PATH_TO_MODEL)"
   ]
  },
  {
   "cell_type": "code",
   "execution_count": 26,
   "id": "23933349",
   "metadata": {},
   "outputs": [
    {
     "name": "stderr",
     "output_type": "stream",
     "text": [
      "Total progress:   0%|          | 0/1 [00:00<?, ?it/s]"
     ]
    },
    {
     "name": "stdout",
     "output_type": "stream",
     "text": [
      "Bounding box coordinates: (1233023.0, 5870474.0, 1233151.0, 5870602.0)\n"
     ]
    },
    {
     "name": "stderr",
     "output_type": "stream",
     "text": [
      "Total progress: 100%|██████████| 1/1 [00:01<00:00,  1.87s/it]\n"
     ]
    }
   ],
   "source": [
    "# Delete existing files in the output directory if specified\n",
    "if CFG.DELETE_EXISTING and CFG.PATH_TO_OUTPUT_DIR.exists():\n",
    "    for file in CFG.PATH_TO_OUTPUT_DIR.glob('*'):\n",
    "        file.unlink()\n",
    "\n",
    "# Calculate the step size based on the image size and resolution\n",
    "x_step = CFG.IMG_SIZE[0] * CFG.RESOLUTION\n",
    "y_step = CFG.IMG_SIZE[1] * CFG.RESOLUTION\n",
    "\n",
    "with tqdm(total=CFG.RASTER_SIZE[0] * CFG.RASTER_SIZE[1], desc='Total progress') as pbar_total:\n",
    "\n",
    "    for col_x in range(CFG.RASTER_SIZE[0]):\n",
    "        for row_y in range(CFG.RASTER_SIZE[1]):\n",
    "\n",
    "            # Calculate the coordinates for the center of the image\n",
    "            coords_center = (\n",
    "                CFG.AEREA_LEFT_BOTTOM_COORDS[0] + x_step/2 + (col_x*x_step),\n",
    "                CFG.AEREA_LEFT_BOTTOM_COORDS[1] + x_step/2 + (row_y*y_step),\n",
    "            )\n",
    "\n",
    "            # Load and save the image\n",
    "            filename = f'{int(coords_center[0])}_{int(coords_center[1])}'\n",
    "            image = load_and_save_images_from_wms(\n",
    "                url=CFG.WMS_URL,\n",
    "                layer_name=CFG.LAYER_NAME,\n",
    "                coords_center=coords_center,\n",
    "                img_size=CFG.IMG_SIZE,\n",
    "                resolution=CFG.RESOLUTION,\n",
    "                path=CFG.PATH_TO_OUTPUT_DIR,\n",
    "                filename=filename,\n",
    "                return_image_object=True,\n",
    "                )\n",
    "            \n",
    "            make_prediction_and_save_mask_from_pil(\n",
    "                image=image,\n",
    "                model=model,\n",
    "                output_dir=CFG.PATH_TO_OUTPUT_DIR,\n",
    "                image_name=filename,\n",
    "                )\n",
    "            \n",
    "            # Update the progress bar\n",
    "            pbar_total.update(1)"
   ]
  },
  {
   "cell_type": "code",
   "execution_count": null,
   "id": "7ca01889",
   "metadata": {},
   "outputs": [],
   "source": []
  }
 ],
 "metadata": {
  "kernelspec": {
   "display_name": ".venv",
   "language": "python",
   "name": "python3"
  },
  "language_info": {
   "codemirror_mode": {
    "name": "ipython",
    "version": 3
   },
   "file_extension": ".py",
   "mimetype": "text/x-python",
   "name": "python",
   "nbconvert_exporter": "python",
   "pygments_lexer": "ipython3",
   "version": "3.13.1"
  }
 },
 "nbformat": 4,
 "nbformat_minor": 5
}
