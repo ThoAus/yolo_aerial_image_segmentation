{
 "cells": [
  {
   "cell_type": "markdown",
   "id": "d98241b8",
   "metadata": {},
   "source": [
    "# 00 - Preparations"
   ]
  },
  {
   "cell_type": "code",
   "execution_count": 1,
   "id": "49509f1b",
   "metadata": {},
   "outputs": [],
   "source": [
    "from owslib.wms import WebMapService\n",
    "from types import SimpleNamespace\n",
    "from pathlib import Path\n",
    "from tqdm import tqdm\n",
    "import yaml\n",
    "\n",
    "import random\n",
    "import shutil\n",
    "import os"
   ]
  },
  {
   "cell_type": "code",
   "execution_count": 2,
   "id": "4ec17249",
   "metadata": {},
   "outputs": [],
   "source": [
    "CFG = SimpleNamespace()\n",
    "CFG.WMS_URL = 'http://geoservices.buergernetz.bz.it/mapproxy/root/ows?'"
   ]
  },
  {
   "cell_type": "markdown",
   "id": "0488f74a",
   "metadata": {},
   "source": [
    "# 01 - Explore WMS service (only for testing)"
   ]
  },
  {
   "cell_type": "markdown",
   "id": "12ed1dbf",
   "metadata": {},
   "source": [
    "https://owslib.readthedocs.io/en/latest/usage.html#"
   ]
  },
  {
   "cell_type": "markdown",
   "id": "b0f11c8c",
   "metadata": {},
   "source": [
    "### Find out what a WMS has to offer (service metadata)"
   ]
  },
  {
   "cell_type": "code",
   "execution_count": null,
   "id": "aa9363d8",
   "metadata": {},
   "outputs": [],
   "source": [
    "wms = WebMapService(CFG.WMS_URL)\n",
    "wms.identification.type"
   ]
  },
  {
   "cell_type": "code",
   "execution_count": null,
   "id": "010ef19b",
   "metadata": {},
   "outputs": [],
   "source": [
    "wms.identification.version"
   ]
  },
  {
   "cell_type": "code",
   "execution_count": null,
   "id": "ccfc316b",
   "metadata": {},
   "outputs": [],
   "source": [
    "wms.identification.title"
   ]
  },
  {
   "cell_type": "code",
   "execution_count": null,
   "id": "8ed6b7dd",
   "metadata": {},
   "outputs": [],
   "source": [
    "wms.identification.abstract"
   ]
  },
  {
   "cell_type": "markdown",
   "id": "6317e4dd",
   "metadata": {},
   "source": [
    "### Available layers"
   ]
  },
  {
   "cell_type": "code",
   "execution_count": null,
   "id": "5252bde6",
   "metadata": {},
   "outputs": [],
   "source": [
    "list(wms.contents)"
   ]
  },
  {
   "cell_type": "code",
   "execution_count": null,
   "id": "8ffa988d",
   "metadata": {},
   "outputs": [],
   "source": [
    "# Select the layer for future use\n",
    "CFG.LAYER_NAME = 'p_bz-Orthoimagery:Aerial-2023-RGB'"
   ]
  },
  {
   "cell_type": "markdown",
   "id": "f84d4498",
   "metadata": {},
   "source": [
    "### Details of a layer"
   ]
  },
  {
   "cell_type": "code",
   "execution_count": null,
   "id": "3d1e411b",
   "metadata": {},
   "outputs": [],
   "source": [
    "wms[CFG.LAYER_NAME].title"
   ]
  },
  {
   "cell_type": "code",
   "execution_count": null,
   "id": "21c3ddea",
   "metadata": {},
   "outputs": [],
   "source": [
    "wms[CFG.LAYER_NAME].queryable"
   ]
  },
  {
   "cell_type": "code",
   "execution_count": null,
   "id": "53fd42f5",
   "metadata": {},
   "outputs": [],
   "source": [
    "wms[CFG.LAYER_NAME].opaque"
   ]
  },
  {
   "cell_type": "code",
   "execution_count": null,
   "id": "268a1f05",
   "metadata": {},
   "outputs": [],
   "source": [
    "wms[CFG.LAYER_NAME].boundingBox"
   ]
  },
  {
   "cell_type": "code",
   "execution_count": null,
   "id": "c9b18350",
   "metadata": {},
   "outputs": [],
   "source": [
    "wms[CFG.LAYER_NAME].boundingBoxWGS84"
   ]
  },
  {
   "cell_type": "code",
   "execution_count": null,
   "id": "f388bfed",
   "metadata": {},
   "outputs": [],
   "source": [
    "wms[CFG.LAYER_NAME].crsOptions"
   ]
  },
  {
   "cell_type": "code",
   "execution_count": null,
   "id": "a1b94b10",
   "metadata": {},
   "outputs": [],
   "source": [
    "wms[CFG.LAYER_NAME].styles"
   ]
  },
  {
   "cell_type": "markdown",
   "id": "daa4ce4a",
   "metadata": {},
   "source": [
    "### Available methods, their URLs, and available formats"
   ]
  },
  {
   "cell_type": "code",
   "execution_count": null,
   "id": "c44d5169",
   "metadata": {},
   "outputs": [],
   "source": [
    "[op.name for op in wms.operations]"
   ]
  },
  {
   "cell_type": "code",
   "execution_count": null,
   "id": "3f2cc108",
   "metadata": {},
   "outputs": [],
   "source": [
    "wms.getOperationByName('GetMap').methods"
   ]
  },
  {
   "cell_type": "code",
   "execution_count": null,
   "id": "a7240ddb",
   "metadata": {},
   "outputs": [],
   "source": [
    "wms.getOperationByName('GetMap').formatOptions"
   ]
  },
  {
   "cell_type": "markdown",
   "id": "5b59234c",
   "metadata": {},
   "source": [
    "### Make a request for imagery"
   ]
  },
  {
   "cell_type": "code",
   "execution_count": null,
   "id": "000022fa",
   "metadata": {},
   "outputs": [],
   "source": [
    "img = wms.getmap(\n",
    "    layers=[CFG.LAYER_NAME],\n",
    "    #styles=['visual_bright'],\n",
    "    srs='EPSG:3857', # Web Mercator\n",
    "    bbox=(1242657, 5878915, 1242757, 5879015),\n",
    "    size=(640, 640),\n",
    "    format='image/jpeg',\n",
    "    transparent=True,\n",
    "    )\n",
    "\n",
    "out = open('test_image.jpg', 'wb')\n",
    "out.write(img.read())\n",
    "out.close()"
   ]
  },
  {
   "cell_type": "markdown",
   "id": "0afb0334",
   "metadata": {},
   "source": [
    "# 02 - Download images from WMS"
   ]
  },
  {
   "cell_type": "markdown",
   "id": "dbdd46d7",
   "metadata": {},
   "source": [
    "## Function to load images from WMS"
   ]
  },
  {
   "cell_type": "code",
   "execution_count": 4,
   "id": "5a9999db",
   "metadata": {},
   "outputs": [],
   "source": [
    "def load_and_save_images_from_wms(\n",
    "        url: str,\n",
    "        layer_name: str,\n",
    "        coords_center: tuple,\n",
    "        img_size: tuple,\n",
    "        resolution: float,\n",
    "        path: Path,\n",
    "        filename: str,\n",
    "        ):\n",
    "    \"\"\"\n",
    "    Load and save images from a WMS server based on given coordinates and resolution.\n",
    "    Parameters:\n",
    "    url (str): The WMS server URL.\n",
    "    coords_center (tuple): The x and y coordinates of the center point.\n",
    "    img_size (tuple): The size of the image (width, height) in pixels.\n",
    "    resolution (float): The resolution in meters per pixel.\n",
    "    \"\"\"\n",
    "\n",
    "    wms = WebMapService(url)\n",
    "\n",
    "    x_min = coords_center[0] - (img_size[0] * resolution) / 2\n",
    "    x_max = coords_center[0] + (img_size[0] * resolution) / 2\n",
    "    y_min = coords_center[1] - (img_size[1] * resolution) / 2\n",
    "    y_max = coords_center[1] + (img_size[1] * resolution) / 2\n",
    "\n",
    "    img = wms.getmap(\n",
    "        layers=[layer_name],\n",
    "        srs='EPSG:3857', # Web Mercator\n",
    "        bbox=(x_min, y_min, x_max, y_max),\n",
    "        size=img_size,\n",
    "        format='image/jpeg',\n",
    "        transparent=True,\n",
    "        )\n",
    "    \n",
    "    # Create a world file for georeferencing\n",
    "    world_file_content = f\"{resolution}\\n0.0\\n0.0\\n-{resolution}\\n{x_min}\\n{y_max}\\n\"\n",
    "    world_file_path = path / f'{filename}.jgw'\n",
    "    with open(world_file_path, 'w') as world_file:\n",
    "        world_file.write(world_file_content)\n",
    "\n",
    "    out = open(path / f'{filename}.jpg', 'wb')\n",
    "    out.write(img.read())\n",
    "    out.close()"
   ]
  },
  {
   "cell_type": "code",
   "execution_count": 7,
   "id": "6974b297",
   "metadata": {},
   "outputs": [],
   "source": [
    "CFG.LAYER_NAME = 'p_bz-Orthoimagery:Aerial-2023-RGB'\n",
    "#CFG.LAYER_NAME = 'p_bz-Orthoimagery:Aerial-2020-RGB'\n",
    "#CFG.LAYER_NAME = 'p_bz-Orthoimagery:Aerial-2014-RGB'\n",
    "\n",
    "CFG.IMG_SIZE = (640, 640)\n",
    "CFG.RESOLUTION = 0.2\n",
    "CFG.PATH = Path().cwd() / 'raw_images_640x640'"
   ]
  },
  {
   "cell_type": "code",
   "execution_count": 26,
   "id": "79be9c5f",
   "metadata": {},
   "outputs": [],
   "source": [
    "# load_and_save_images_from_wms(\n",
    "#     url=CFG.WMS_URL,\n",
    "#     layer_name=CFG.LAYER_NAME,\n",
    "#     coords_center=(1242660, 5878955),\n",
    "#     img_size=CFG.IMG_SIZE,\n",
    "#     resolution=CFG.RESOLUTION,\n",
    "#     path=CFG.PATH,\n",
    "#     filename='0',\n",
    "#     )"
   ]
  },
  {
   "cell_type": "markdown",
   "id": "3993f266",
   "metadata": {},
   "source": [
    "### Download the images in a specified grid"
   ]
  },
  {
   "cell_type": "code",
   "execution_count": 8,
   "id": "9aa1814f",
   "metadata": {},
   "outputs": [
    {
     "name": "stderr",
     "output_type": "stream",
     "text": [
      "Column: 100%|██████████| 10/10 [01:48<00:00, 10.82s/it]\n"
     ]
    },
    {
     "data": {
      "text/plain": [
       "namespace(WMS_URL='http://geoservices.buergernetz.bz.it/mapproxy/root/ows?',\n",
       "          LAYER_NAME='p_bz-Orthoimagery:Aerial-2023-RGB',\n",
       "          IMG_SIZE=(640, 640),\n",
       "          RESOLUTION=0.2,\n",
       "          PATH=WindowsPath('c:/Users/thoma/Documents/GitHub/WING_YOLO/raw_images_640x640'),\n",
       "          RASTER_CENTER=(1241920, 5879135),\n",
       "          RASTER_SIZE=(10, 10))"
      ]
     },
     "execution_count": 8,
     "metadata": {},
     "output_type": "execute_result"
    }
   ],
   "source": [
    "# Set the raster size and center\n",
    "CFG.RASTER_CENTER = (1241920, 5879135)\n",
    "CFG.RASTER_SIZE = (10, 10)  # Number of images in x and y direction\n",
    "\n",
    "x_step = CFG.IMG_SIZE[0] * CFG.RESOLUTION\n",
    "y_step = CFG.IMG_SIZE[1] * CFG.RESOLUTION\n",
    "\n",
    "for col_x in tqdm(range(CFG.RASTER_SIZE[0]), desc='Column'):\n",
    "    for row_y in range(CFG.RASTER_SIZE[1]):\n",
    "\n",
    "        # Calculate the coordinates for the center of the image\n",
    "        coords_center = (\n",
    "            CFG.RASTER_CENTER[0] + col_x * x_step,\n",
    "            CFG.RASTER_CENTER[1] + row_y * y_step,\n",
    "        )\n",
    "\n",
    "        # Load and save the image\n",
    "        filename = f'{int(coords_center[0])}_{int(coords_center[1])}'\n",
    "        load_and_save_images_from_wms(\n",
    "            url=CFG.WMS_URL,\n",
    "            layer_name=CFG.LAYER_NAME,\n",
    "            coords_center=coords_center,\n",
    "            img_size=CFG.IMG_SIZE,\n",
    "            resolution=CFG.RESOLUTION,\n",
    "            path=CFG.PATH,\n",
    "            filename=filename,\n",
    "            )\n",
    "\n",
    "CFG"
   ]
  },
  {
   "cell_type": "markdown",
   "id": "f639360a",
   "metadata": {},
   "source": [
    "# 03 - Annotations"
   ]
  },
  {
   "cell_type": "markdown",
   "id": "a2c4e6e8",
   "metadata": {},
   "source": [
    "https://labelstud.io/blog/get-started-using-segment-anything/\n",
    "\n"
   ]
  },
  {
   "cell_type": "markdown",
   "id": "f9513177",
   "metadata": {},
   "source": [
    "### Loaded and annotated images\n",
    "\n",
    "- p_bz-Orthoimagery:Aerial-2023-RGB\n",
    "    - Tscherms, Gampenstraße - RASTER_CENTER = (1241065, 5882875), RASTER_SIZE = (4, 4)\n",
    "    - Meran, Pröfingerstraße - RASTER_CENTER = (1244510, 5888300), RASTER_SIZE = (4, 4)\n",
    "    - Bozen, Lagederweg - RASTER_CENTER = (1262665, 5861920), RASTER_SIZE = (4, 4)\n",
    "    - Girlan, Marktgasse - RASTER_CENTER = (1255775, 5854640), RASTER_SIZE = (4, 4)\n",
    "\n",
    "    - Naturns, Industriestraße - CFG.RASTER_CENTER = (1225525, 5884650), RASTER_SIZE = (4, 4)\n",
    "    - Tschars, Pardellweg - CFG.RASTER_CENTER = (1217930, 5883325), RASTER_SIZE = (4, 4)\n",
    "    - Reschen, Neudorfstraße - CFG.RASTER_CENTER = (1171250, 5914185), RASTER_SIZE = (4, 4)\n",
    "    - Tramin, Im Bad - CFG.RASTER_CENTER = (1251630, 5834995), RASTER_SIZE = (4, 4)\n",
    "\n",
    "    - Glurns, Max Valier Straße - CFG.RASTER_CENTER = (1175735, 5888505), RASTER_SIZE = (4, 4)\n",
    "    - Salurn, Aldo Moro Straße - CFG.RASTER_CENTER = (1248340, 5819545), RASTER_SIZE = (4, 4)\n",
    "    - Karezza, Piazweg - CFG.RASTER_CENTER = (1290030, 5846415), RASTER_SIZE = (4, 4)\n",
    "    - Mitterolang, Hermann von Gilm Weg, CFG.RASTER_CENTER = (1338945, 5903120), RASTER_SIZE = (4, 4)\n",
    "    - Antholz Niedertal, CFG.RASTER_CENTER = (1345605, 5914635), RASTER_SIZE = (2, 4)\n",
    "\n",
    "    - Salurn, Staatsstraße - CFG.RASTER_CENTER = (1248205, 5819575), RASTER_SIZE = (3, 3)\n",
    "    - Neumarkt, Untere Inselstraße - CFG.RASTER_CENTER = (1253715, 5831670), RASTER_SIZE = (3, 3)\n",
    "    - Neumarkt, Obstgenossenschaft - CFG.RASTER_CENTER = (1253985, 5835220), RASTER_SIZE = (3, 3)\n",
    "    - Branzoll, Raifgasse - CFG.RASTER_CENTER = (1260615, 5845090), RASTER_SIZE = (4, 4)\n",
    "    - Leifers, Weinbergstraße - CFG.RASTER_CENTER = (1261765, 5848395), RASTER_SIZE = (1, 7)\n",
    "\n",
    "\n",
    "- p_bz-Orthoimagery:Aerial-2014-RGB\n",
    "    - Tscherms, Seidlgasse - CFG.RASTER_CENTER = (1240715, 5882560), CFG.RASTER_SIZE = (4, 5)\n",
    "    - Meran, Schennastraße - CFG.RASTER_CENTER = (1244405, 5888340), CFG.RASTER_SIZE = (4, 5)\n",
    "    - Kaltern, Lavardistraße, CFG.RASTER_CENTER = (1251175, 5845885), CFG.RASTER_SIZE = (4, 5)\n",
    "    - Leifers, St. Jakob Straße - CFG.RASTER_CENTER = (1261895, 5853150), CFG.RASTER_SIZE = (4, 5)\n",
    "    - Tisens, Tirolerstraße - CFG.RASTER_CENTER = (1243470, 5871345), CFG.RASTER_SIZE = (4, 5)\n",
    "\n",
    "\n",
    "- p_bz-Orthoimagery:Aerial-2020-RGB\n",
    "    - Gufidaun, Hauptstraße - CFG.RASTER_CENTER = (1291305, 5884875), CFG.RASTER_SIZE = (4, 5)\n",
    "    - St. Peter, Oberhausweg - CFG.RASTER_CENTER = (1300345, 5883915), CFG.RASTER_SIZE = (4, 5)\n",
    "    - Klausen, Fragburg - CFG.RASTER_CENTER = (1286940, 5883185), CFG.RASTER_SIZE = (4, 5)\n",
    "    - Raas, Kirchweg - CFG.RASTER_CENTER = (1297965, 5901345), CFG.RASTER_SIZE = (4, 5)\n",
    "    - Neustift, Kapuzinerring - CFG.RASTER_CENTER = (1254800, 5830815), CFG.RASTER_SIZE = (4, 5)\n",
    "\n"
   ]
  },
  {
   "cell_type": "markdown",
   "id": "7d461fb8",
   "metadata": {},
   "source": [
    "# 04 - Prepare dataset"
   ]
  },
  {
   "attachments": {
    "image.png": {
     "image/png": "[encoded data removed]"
    }
   },
   "cell_type": "markdown",
   "id": "44ace9df",
   "metadata": {},
   "source": [
    "- Export annotated images in YOLO-format\n",
    "\n",
    "![](attachment:image.png)\n",
    "\n",
    "- unzip file and move the content to .\\annotation_export\n",
    "- run the code below\n",
    "    - the first cell to delete the existing dataset\n",
    "    - the second cell to split the images in train/val and move them to the directories"
   ]
  },
  {
   "cell_type": "code",
   "execution_count": null,
   "id": "22b5d724",
   "metadata": {},
   "outputs": [],
   "source": [
    "# Delete the directory if it exists\n",
    "CFG.DATASET_DIR_PARENT = Path().cwd() / 'dataset'\n",
    "\n",
    "if CFG.DATASET_DIR_PARENT.exists() and CFG.DATASET_DIR_PARENT.is_dir():\n",
    "    shutil.rmtree(CFG.DATASET_DIR_PARENT)\n",
    "\n",
    "# Create the directories if they don't exist\n",
    "dataset_dir_list = [\n",
    "    CFG.DATASET_DIR_PARENT / 'images' / 'train',\n",
    "    CFG.DATASET_DIR_PARENT / 'images' / 'val',\n",
    "    CFG.DATASET_DIR_PARENT / 'labels' / 'train',\n",
    "    CFG.DATASET_DIR_PARENT / 'labels' / 'val',\n",
    "    ]\n",
    "\n",
    "for path in dataset_dir_list:\n",
    "    path.mkdir(parents=True)"
   ]
  },
  {
   "cell_type": "code",
   "execution_count": null,
   "id": "502b8081",
   "metadata": {},
   "outputs": [],
   "source": [
    "path = Path().cwd() / 'annotation_export' / 'images'\n",
    "\n",
    "# Find all the images in the folder\n",
    "images = list(path.glob('*.jpg'))\n",
    "print(f'{len(images)} images found in {path}')\n",
    "\n",
    "# Set the number of images for training and validation\n",
    "n_val = int(len(images) * 0.2)\n",
    "\n",
    "# Take a random sample of 10 images for validation\n",
    "val_images = random.sample(images, n_val)\n",
    "\n",
    "for image in val_images:\n",
    "\n",
    "    # Get the image name without the extension\n",
    "    image_name = os.path.splitext(image.name)[0]\n",
    "\n",
    "    # Get the corresponding label path\n",
    "    label = path.parent / 'labels' / f'{image_name}.txt'\n",
    "\n",
    "    # Create the new path for the image and label\n",
    "    new_image_path = Path().cwd() / 'dataset' / 'images' / 'val' / f'{image_name}.jpg'\n",
    "    new_label_path  = Path().cwd() / 'dataset' / 'labels' / 'val' / f'{image_name}.txt'\n",
    "\n",
    "    # Move the files to the new path\n",
    "    shutil.move(image, new_image_path)\n",
    "    shutil.move(label, new_label_path)\n",
    "\n",
    "print(f'{len(val_images)} images moved to validation set')\n",
    "\n",
    "# Find all the images in the folder\n",
    "images = list(path.glob('*.jpg'))\n",
    "\n",
    "# Move the rest of the images to the training set\n",
    "for image in images:\n",
    "    # Get the image name without the extension\n",
    "    image_name = os.path.splitext(image.name)[0]\n",
    "\n",
    "    # Get the corresponding label path\n",
    "    label = path.parent / 'labels' / f'{image_name}.txt'\n",
    "\n",
    "    # Create the new path for the image and label\n",
    "    new_image_path = Path().cwd() / 'dataset' / 'images' / 'train' / f'{image_name}.jpg'\n",
    "    new_label_path  = Path().cwd() / 'dataset' / 'labels' / 'train' / f'{image_name}.txt'\n",
    "\n",
    "    # Move the files to the new path\n",
    "    shutil.move(image, new_image_path)\n",
    "    shutil.move(label, new_label_path)\n",
    "\n",
    "print(f'{len(images)} images moved to train set')"
   ]
  },
  {
   "cell_type": "code",
   "execution_count": null,
   "id": "e2ed0028",
   "metadata": {},
   "outputs": [],
   "source": []
  }
 ],
 "metadata": {
  "kernelspec": {
   "display_name": ".venv",
   "language": "python",
   "name": "python3"
  },
  "language_info": {
   "codemirror_mode": {
    "name": "ipython",
    "version": 3
   },
   "file_extension": ".py",
   "mimetype": "text/x-python",
   "name": "python",
   "nbconvert_exporter": "python",
   "pygments_lexer": "ipython3",
   "version": "3.12.4"
  }
 },
 "nbformat": 4,
 "nbformat_minor": 5
}
