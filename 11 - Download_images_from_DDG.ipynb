{
 "cells": [
  {
   "cell_type": "code",
   "execution_count": 11,
   "id": "a45e52b4",
   "metadata": {},
   "outputs": [],
   "source": [
    "import os\n",
    "import requests\n",
    "from duckduckgo_search import DDGS\n",
    "from PIL import Image\n",
    "from io import BytesIO"
   ]
  },
  {
   "cell_type": "code",
   "execution_count": 12,
   "id": "b430e327",
   "metadata": {},
   "outputs": [],
   "source": [
    "def download_image(url, save_path, max_height=640):\n",
    "    try:\n",
    "        response = requests.get(url, stream=True, timeout=10)\n",
    "        response.raise_for_status()\n",
    "        img = Image.open(BytesIO(response.content))\n",
    "        # Resize if height is greater than max_height\n",
    "        if img.height > max_height:\n",
    "            ratio = max_height / float(img.height)\n",
    "            new_width = int(img.width * ratio)\n",
    "            img = img.resize((new_width, max_height), Image.LANCZOS)\n",
    "        img.save(save_path)\n",
    "        print(f\"Downloaded and resized: {url}\")\n",
    "    except Exception as e:\n",
    "        print(f\"Failed to download {url}. Reason: {e}\")\n",
    "\n",
    "def search_and_download(query, max_results=10, download_folder=\"ddg_images\"):\n",
    "    if not os.path.exists(download_folder):\n",
    "        os.makedirs(download_folder)\n",
    "    \n",
    "    print(f\"Searching images for: {query}\")\n",
    "    # Use DDGS context manager to perform image searches.\n",
    "    results = []\n",
    "    with DDGS() as ddgs:\n",
    "        # iterate over search results and collect them\n",
    "        for r in ddgs.images(query, max_results=max_results):\n",
    "            results.append(r)\n",
    "\n",
    "    if not results:\n",
    "        print(\"No results found.\")\n",
    "        return\n",
    "\n",
    "    for idx, result in enumerate(results):\n",
    "        # The new API returns a dict with keys like 'image' or 'image_url'\n",
    "        # Check which key exists in your result (for example: 'image')\n",
    "        image_url = result.get(\"image\") or result.get(\"image_url\")\n",
    "        if not image_url:\n",
    "            continue\n",
    "\n",
    "        # Create a filename from the URL\n",
    "        filename = image_url.split(\"/\")[-1].split(\"?\")[0]\n",
    "        if not filename:\n",
    "            filename = f\"img_{idx}.jpg\"\n",
    "        save_path = os.path.join(download_folder, filename)\n",
    "        download_image(image_url, save_path)"
   ]
  },
  {
   "cell_type": "code",
   "execution_count": 16,
   "id": "869cca09",
   "metadata": {},
   "outputs": [
    {
     "name": "stdout",
     "output_type": "stream",
     "text": [
      "Searching images for: rasenmäher auf wiese\n",
      "Downloaded and resized: https://img.freepik.com/fotos-kostenlos/rasenmaeher-auf-einer-gruenen-wiese-rasenmaeher-im-garten-details-zum-landschafts-und-gartenbau_486333-359.jpg?size=626&ext=jpg\n",
      "Downloaded and resized: https://c8.alamy.com/compde/f5en5t/benzin-rasenmaher-macallister-auf-einer-wiese-f5en5t.jpg\n",
      "Downloaded and resized: https://c8.alamy.com/compde/f5en5y/benzin-rasenmaher-macallister-auf-einer-wiese-f5en5y.jpg\n",
      "Downloaded and resized: https://rp-online.de/imgs/32/1/6/6/6/3/6/2/9/9/tok_ab696be5f7dcc6c7fe3d071046684710/w2100_h1313_x1796_y1197_xl_TUeV_SUeD_Akku-Rasenmaeher-b9db899109d189fd.jpg\n",
      "Downloaded and resized: https://c8.alamy.com/compde/p2gd6y/ein-rasenmaher-auf-einer-wiese-von-lange-gras-der-schneiden-p2gd6y.jpg\n",
      "Downloaded and resized: https://c8.alamy.com/compde/2bgarwm/rasenmaher-auf-einer-sonnigen-wiese-2bgarwm.jpg\n",
      "Downloaded and resized: https://c8.alamy.com/compde/f5en5h/macallister-benzin-rasenmaher-auf-einer-wiese-zeigt-ein-gemahtes-gras-und-einem-bereich-ungeschnitten-f5en5h.jpg\n",
      "Downloaded and resized: https://c8.alamy.com/compde/b3h37b/auf-mahtraktor-auf-einer-wiese-sitzen-b3h37b.jpg\n",
      "Downloaded and resized: https://media1.faz.net/ppmedia/aktuell/technik-motor/994247172/1.659043/der-as-schlegelmaeher-macht.jpg\n",
      "Downloaded and resized: https://img.freepik.com/fotos-kostenlos/mann-maeht-das-gras-auf-der-wiese-mit-einem-handgehaltenen-schnurlosen-rasenmaeher_155027-1451.jpg?size=626&ext=jpg\n",
      "Downloaded and resized: https://mh-1-bildagentur.panthermedia.net/pass/U0xDSXFRcVI0ZlhyZTd4M1dYSFNLWHpqdjE3dHZqZHJNNmxyVzl6SnVZZ3FKRmp2N1NpTDI3UUtCMHU5eUovcGZLckxWSjhPT3NPTnRjdU9SNVhjcWQxU3NYeTVrMzh1a3g3dXdmL3p2MDgya2hBS01VMVErK1hsYXVHTUFIbUE.jpg\n",
      "Downloaded and resized: https://c8.alamy.com/comp/JC16NR/rasen-mhen-rasen-mhen-rasenmhenrasen-mhen-rasenmher-gras-garten-gartenarbeit-JC16NR.jpg\n",
      "Downloaded and resized: https://hausundgarten-profi.de/wp-content/uploads/Rasenmaeher-1024x576.jpg\n",
      "Downloaded and resized: https://www.hna.de/assets/images/34/16/34016802-rasenmaeher-auf-einer-gruenen-teilweise-gemaehten-wiese-2Kl66lQNqgfe.jpg\n",
      "Downloaded and resized: https://thumbs.dreamstime.com/b/rasenmäher-auf-einer-grünen-wiese-43178199.jpg\n"
     ]
    }
   ],
   "source": [
    "query = \"rasenmäher auf wiese\"\n",
    "max_results = 15\n",
    "download_folder = \"downloaded_images\"\n",
    "\n",
    "search_and_download(query, max_results, download_folder)"
   ]
  },
  {
   "cell_type": "code",
   "execution_count": null,
   "id": "20a0fd29",
   "metadata": {},
   "outputs": [],
   "source": []
  },
  {
   "cell_type": "code",
   "execution_count": null,
   "id": "e6622905",
   "metadata": {},
   "outputs": [],
   "source": []
  }
 ],
 "metadata": {
  "kernelspec": {
   "display_name": ".venv",
   "language": "python",
   "name": "python3"
  },
  "language_info": {
   "codemirror_mode": {
    "name": "ipython",
    "version": 3
   },
   "file_extension": ".py",
   "mimetype": "text/x-python",
   "name": "python",
   "nbconvert_exporter": "python",
   "pygments_lexer": "ipython3",
   "version": "3.12.4"
  }
 },
 "nbformat": 4,
 "nbformat_minor": 5
}
