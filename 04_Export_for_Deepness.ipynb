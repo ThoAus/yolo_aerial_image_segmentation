{
 "cells": [
  {
   "cell_type": "code",
   "execution_count": 1,
   "id": "5d4634de",
   "metadata": {},
   "outputs": [],
   "source": [
    "from ultralytics import YOLO\n",
    "\n",
    "from pathlib import Path\n",
    "import torch\n",
    "from torch import nn\n",
    "import torch.onnx\n",
    "import torchvision.transforms as transforms\n",
    "\n",
    "from PIL import Image"
   ]
  },
  {
   "cell_type": "markdown",
   "id": "5e26e6d9",
   "metadata": {},
   "source": [
    "# 01 - Load model and make predictions"
   ]
  },
  {
   "cell_type": "code",
   "execution_count": 2,
   "id": "2012bec2",
   "metadata": {},
   "outputs": [
    {
     "name": "stdout",
     "output_type": "stream",
     "text": [
      "YOLO11m-seg summary: 253 layers, 22,360,758 parameters, 0 gradients, 123.6 GFLOPs\n"
     ]
    },
    {
     "data": {
      "text/plain": [
       "(253, 22360758, 0, 123.58435839999999)"
      ]
     },
     "execution_count": 2,
     "metadata": {},
     "output_type": "execute_result"
    }
   ],
   "source": [
    "# Load the model\n",
    "path_to_model = 'C:/Users/thoma/Documents/GitHub/WING_YOLO/models/yolo11m_250imgs_100epochs/weights/best.pt'\n",
    "model = YOLO(path_to_model)\n",
    "model.info()"
   ]
  },
  {
   "cell_type": "code",
   "execution_count": 4,
   "id": "5a915e5c",
   "metadata": {},
   "outputs": [
    {
     "data": {
      "text/plain": [
       "[WindowsPath('raw_images_640x640/1240700_5879970.jpg'),\n",
       " WindowsPath('raw_images_640x640/1240700_5880098.jpg'),\n",
       " WindowsPath('raw_images_640x640/1240828_5879970.jpg'),\n",
       " WindowsPath('raw_images_640x640/1240828_5880098.jpg')]"
      ]
     },
     "execution_count": 4,
     "metadata": {},
     "output_type": "execute_result"
    }
   ],
   "source": [
    "# Find all images in the directory\n",
    "test_images = list(Path('raw_images_640x640').glob('*.jpg'))\n",
    "test_images"
   ]
  },
  {
   "cell_type": "markdown",
   "id": "8e2518a5",
   "metadata": {},
   "source": [
    "https://docs.ultralytics.com/modes/predict/#inference-arguments"
   ]
  },
  {
   "cell_type": "code",
   "execution_count": 5,
   "id": "b66a1f49",
   "metadata": {},
   "outputs": [
    {
     "name": "stdout",
     "output_type": "stream",
     "text": [
      "\n",
      "0: 640x640 9 Roofs, 2 Solars, 277.8ms\n",
      "1: 640x640 10 Roofs, 277.8ms\n",
      "2: 640x640 6 Roofs, 277.8ms\n",
      "3: 640x640 12 Roofs, 6 Solars, 277.8ms\n",
      "Speed: 2.0ms preprocess, 277.8ms inference, 6.8ms postprocess per image at shape (1, 3, 640, 640)\n"
     ]
    }
   ],
   "source": [
    "# Make predictions on a test image with YOLO\n",
    "results = model(\n",
    "    source=test_images,\n",
    "    verbose=True)"
   ]
  },
  {
   "cell_type": "markdown",
   "id": "4e4124d5",
   "metadata": {},
   "source": [
    "https://docs.ultralytics.com/reference/engine/results/#ultralytics.engine.results.Results.show"
   ]
  },
  {
   "cell_type": "code",
   "execution_count": 7,
   "id": "ccd9e53f",
   "metadata": {},
   "outputs": [],
   "source": [
    "# Display the results\n",
    "for pred in results:\n",
    "    pred.show(\n",
    "        boxes=False,\n",
    "    )"
   ]
  },
  {
   "cell_type": "code",
   "execution_count": 34,
   "id": "40028097",
   "metadata": {},
   "outputs": [],
   "source": [
    "# ...existing code...\n",
    "\n",
    "output_dir = Path('combined_masks')\n",
    "output_dir.mkdir(exist_ok=True)\n",
    "\n",
    "for i, (pred, img_path) in enumerate(zip(results, test_images)):\n",
    "    if pred.masks is not None:\n",
    "        masks = pred.masks.data  # shape: (num_instances, H, W)\n",
    "        combined_mask = (masks.sum(dim=0) > 0).byte()\n",
    "        mask_img = Image.fromarray((combined_mask.cpu().numpy() * 255).astype('uint8'))\n",
    "        # Use original image name, change extension to .png\n",
    "        mask_name = Path(img_path).stem + '.jpg'\n",
    "        mask_img.save(output_dir / mask_name)\n",
    "# ...existing code..."
   ]
  },
  {
   "cell_type": "code",
   "execution_count": 15,
   "id": "d509bd41",
   "metadata": {},
   "outputs": [
    {
     "data": {
      "text/plain": [
       "ultralytics.engine.results.Masks object with attributes:\n",
       "\n",
       "data: tensor([[[0., 0., 0.,  ..., 0., 0., 0.],\n",
       "         [0., 0., 0.,  ..., 0., 0., 0.],\n",
       "         [0., 0., 0.,  ..., 0., 0., 0.],\n",
       "         ...,\n",
       "         [0., 0., 0.,  ..., 0., 0., 0.],\n",
       "         [0., 0., 0.,  ..., 0., 0., 0.],\n",
       "         [0., 0., 0.,  ..., 0., 0., 0.]]])\n",
       "orig_shape: (640, 640)\n",
       "shape: torch.Size([1, 640, 640])\n",
       "xy: [array([[        276,         210],\n",
       "       [        276,         213],\n",
       "       [        275,         214],\n",
       "       [        274,         214],\n",
       "       [        273,         215],\n",
       "       [        272,         215],\n",
       "       [        271,         216],\n",
       "       [        269,         216],\n",
       "       [        268,         217],\n",
       "       [        266,         217],\n",
       "       [        265,         218],\n",
       "       [        263,         218],\n",
       "       [        262,         219],\n",
       "       [        260,         219],\n",
       "       [        259,         220],\n",
       "       [        257,         220],\n",
       "       [        256,         221],\n",
       "       [        254,         221],\n",
       "       [        253,         222],\n",
       "       [        250,         222],\n",
       "       [        249,         223],\n",
       "       [        247,         223],\n",
       "       [        246,         224],\n",
       "       [        243,         224],\n",
       "       [        242,         225],\n",
       "       [        239,         225],\n",
       "       [        238,         226],\n",
       "       [        234,         226],\n",
       "       [        233,         227],\n",
       "       [        231,         227],\n",
       "       [        230,         228],\n",
       "       [        229,         228],\n",
       "       [        228,         229],\n",
       "       [        226,         229],\n",
       "       [        225,         230],\n",
       "       [        223,         230],\n",
       "       [        222,         231],\n",
       "       [        221,         231],\n",
       "       [        220,         232],\n",
       "       [        218,         232],\n",
       "       [        217,         233],\n",
       "       [        215,         233],\n",
       "       [        214,         234],\n",
       "       [        213,         234],\n",
       "       [        212,         235],\n",
       "       [        211,         235],\n",
       "       [        210,         236],\n",
       "       [        209,         236],\n",
       "       [        208,         237],\n",
       "       [        207,         237],\n",
       "       [        206,         238],\n",
       "       [        205,         238],\n",
       "       [        204,         239],\n",
       "       [        203,         239],\n",
       "       [        202,         240],\n",
       "       [        200,         240],\n",
       "       [        199,         241],\n",
       "       [        196,         241],\n",
       "       [        195,         242],\n",
       "       [        192,         242],\n",
       "       [        191,         243],\n",
       "       [        188,         243],\n",
       "       [        187,         244],\n",
       "       [        182,         244],\n",
       "       [        182,         266],\n",
       "       [        185,         266],\n",
       "       [        186,         267],\n",
       "       [        186,         268],\n",
       "       [        187,         269],\n",
       "       [        187,         272],\n",
       "       [        188,         273],\n",
       "       [        188,         276],\n",
       "       [        189,         277],\n",
       "       [        189,         279],\n",
       "       [        190,         280],\n",
       "       [        190,         284],\n",
       "       [        191,         285],\n",
       "       [        191,         288],\n",
       "       [        192,         289],\n",
       "       [        192,         290],\n",
       "       [        193,         291],\n",
       "       [        193,         293],\n",
       "       [        194,         294],\n",
       "       [        194,         297],\n",
       "       [        195,         298],\n",
       "       [        195,         301],\n",
       "       [        196,         302],\n",
       "       [        196,         304],\n",
       "       [        197,         305],\n",
       "       [        197,         308],\n",
       "       [        198,         309],\n",
       "       [        198,         312],\n",
       "       [        199,         313],\n",
       "       [        199,         314],\n",
       "       [        200,         315],\n",
       "       [        200,         316],\n",
       "       [        201,         317],\n",
       "       [        201,         318],\n",
       "       [        202,         319],\n",
       "       [        202,         320],\n",
       "       [        203,         321],\n",
       "       [        203,         323],\n",
       "       [        204,         324],\n",
       "       [        204,         326],\n",
       "       [        205,         327],\n",
       "       [        205,         330],\n",
       "       [        206,         331],\n",
       "       [        206,         336],\n",
       "       [        207,         337],\n",
       "       [        207,         341],\n",
       "       [        208,         342],\n",
       "       [        208,         345],\n",
       "       [        209,         346],\n",
       "       [        209,         349],\n",
       "       [        210,         350],\n",
       "       [        210,         352],\n",
       "       [        211,         352],\n",
       "       [        212,         353],\n",
       "       [        212,         357],\n",
       "       [        215,         357],\n",
       "       [        215,         354],\n",
       "       [        216,         353],\n",
       "       [        217,         353],\n",
       "       [        218,         352],\n",
       "       [        219,         352],\n",
       "       [        220,         351],\n",
       "       [        222,         351],\n",
       "       [        223,         350],\n",
       "       [        224,         350],\n",
       "       [        225,         349],\n",
       "       [        227,         349],\n",
       "       [        228,         348],\n",
       "       [        230,         348],\n",
       "       [        231,         347],\n",
       "       [        233,         347],\n",
       "       [        234,         346],\n",
       "       [        237,         346],\n",
       "       [        238,         345],\n",
       "       [        240,         345],\n",
       "       [        241,         344],\n",
       "       [        243,         344],\n",
       "       [        244,         343],\n",
       "       [        245,         343],\n",
       "       [        246,         342],\n",
       "       [        248,         342],\n",
       "       [        249,         341],\n",
       "       [        252,         341],\n",
       "       [        253,         340],\n",
       "       [        255,         340],\n",
       "       [        256,         339],\n",
       "       [        258,         339],\n",
       "       [        259,         338],\n",
       "       [        261,         338],\n",
       "       [        262,         337],\n",
       "       [        264,         337],\n",
       "       [        265,         336],\n",
       "       [        266,         336],\n",
       "       [        267,         335],\n",
       "       [        269,         335],\n",
       "       [        270,         334],\n",
       "       [        272,         334],\n",
       "       [        273,         333],\n",
       "       [        275,         333],\n",
       "       [        276,         332],\n",
       "       [        278,         332],\n",
       "       [        279,         331],\n",
       "       [        281,         331],\n",
       "       [        282,         330],\n",
       "       [        284,         330],\n",
       "       [        285,         329],\n",
       "       [        288,         329],\n",
       "       [        289,         328],\n",
       "       [        292,         328],\n",
       "       [        293,         327],\n",
       "       [        296,         327],\n",
       "       [        297,         326],\n",
       "       [        300,         326],\n",
       "       [        301,         325],\n",
       "       [        305,         325],\n",
       "       [        306,         324],\n",
       "       [        311,         324],\n",
       "       [        312,         323],\n",
       "       [        316,         323],\n",
       "       [        317,         322],\n",
       "       [        322,         322],\n",
       "       [        323,         321],\n",
       "       [        324,         321],\n",
       "       [        326,         319],\n",
       "       [        329,         319],\n",
       "       [        329,         315],\n",
       "       [        326,         315],\n",
       "       [        325,         314],\n",
       "       [        325,         313],\n",
       "       [        324,         312],\n",
       "       [        324,         310],\n",
       "       [        323,         309],\n",
       "       [        323,         307],\n",
       "       [        322,         306],\n",
       "       [        322,         303],\n",
       "       [        321,         302],\n",
       "       [        321,         300],\n",
       "       [        320,         299],\n",
       "       [        320,         297],\n",
       "       [        319,         296],\n",
       "       [        319,         294],\n",
       "       [        318,         293],\n",
       "       [        318,         291],\n",
       "       [        317,         290],\n",
       "       [        317,         287],\n",
       "       [        316,         286],\n",
       "       [        316,         283],\n",
       "       [        315,         282],\n",
       "       [        315,         280],\n",
       "       [        314,         279],\n",
       "       [        314,         276],\n",
       "       [        313,         275],\n",
       "       [        313,         272],\n",
       "       [        312,         271],\n",
       "       [        312,         269],\n",
       "       [        311,         268],\n",
       "       [        311,         266],\n",
       "       [        310,         265],\n",
       "       [        310,         262],\n",
       "       [        309,         261],\n",
       "       [        309,         259],\n",
       "       [        308,         258],\n",
       "       [        308,         255],\n",
       "       [        307,         254],\n",
       "       [        307,         252],\n",
       "       [        306,         251],\n",
       "       [        306,         248],\n",
       "       [        305,         247],\n",
       "       [        305,         245],\n",
       "       [        304,         244],\n",
       "       [        304,         242],\n",
       "       [        303,         241],\n",
       "       [        303,         239],\n",
       "       [        302,         238],\n",
       "       [        302,         236],\n",
       "       [        301,         235],\n",
       "       [        301,         232],\n",
       "       [        300,         231],\n",
       "       [        300,         228],\n",
       "       [        299,         227],\n",
       "       [        299,         224],\n",
       "       [        298,         223],\n",
       "       [        298,         219],\n",
       "       [        297,         218],\n",
       "       [        297,         215],\n",
       "       [        296,         214],\n",
       "       [        296,         210]], dtype=float32)]\n",
       "xyn: [array([[    0.43125,     0.32812],\n",
       "       [    0.43125,     0.33281],\n",
       "       [    0.42969,     0.33437],\n",
       "       [    0.42812,     0.33437],\n",
       "       [    0.42656,     0.33594],\n",
       "       [      0.425,     0.33594],\n",
       "       [    0.42344,      0.3375],\n",
       "       [    0.42031,      0.3375],\n",
       "       [    0.41875,     0.33906],\n",
       "       [    0.41563,     0.33906],\n",
       "       [    0.41406,     0.34062],\n",
       "       [    0.41094,     0.34062],\n",
       "       [    0.40938,     0.34219],\n",
       "       [    0.40625,     0.34219],\n",
       "       [    0.40469,     0.34375],\n",
       "       [    0.40156,     0.34375],\n",
       "       [        0.4,     0.34531],\n",
       "       [    0.39687,     0.34531],\n",
       "       [    0.39531,     0.34688],\n",
       "       [    0.39062,     0.34688],\n",
       "       [    0.38906,     0.34844],\n",
       "       [    0.38594,     0.34844],\n",
       "       [    0.38438,        0.35],\n",
       "       [    0.37969,        0.35],\n",
       "       [    0.37813,     0.35156],\n",
       "       [    0.37344,     0.35156],\n",
       "       [    0.37187,     0.35313],\n",
       "       [    0.36562,     0.35313],\n",
       "       [    0.36406,     0.35469],\n",
       "       [    0.36094,     0.35469],\n",
       "       [    0.35938,     0.35625],\n",
       "       [    0.35781,     0.35625],\n",
       "       [    0.35625,     0.35781],\n",
       "       [    0.35313,     0.35781],\n",
       "       [    0.35156,     0.35938],\n",
       "       [    0.34844,     0.35938],\n",
       "       [    0.34688,     0.36094],\n",
       "       [    0.34531,     0.36094],\n",
       "       [    0.34375,      0.3625],\n",
       "       [    0.34062,      0.3625],\n",
       "       [    0.33906,     0.36406],\n",
       "       [    0.33594,     0.36406],\n",
       "       [    0.33437,     0.36562],\n",
       "       [    0.33281,     0.36562],\n",
       "       [    0.33125,     0.36719],\n",
       "       [    0.32969,     0.36719],\n",
       "       [    0.32812,     0.36875],\n",
       "       [    0.32656,     0.36875],\n",
       "       [      0.325,     0.37031],\n",
       "       [    0.32344,     0.37031],\n",
       "       [    0.32188,     0.37187],\n",
       "       [    0.32031,     0.37187],\n",
       "       [    0.31875,     0.37344],\n",
       "       [    0.31719,     0.37344],\n",
       "       [    0.31563,       0.375],\n",
       "       [     0.3125,       0.375],\n",
       "       [    0.31094,     0.37656],\n",
       "       [    0.30625,     0.37656],\n",
       "       [    0.30469,     0.37813],\n",
       "       [        0.3,     0.37813],\n",
       "       [    0.29844,     0.37969],\n",
       "       [    0.29375,     0.37969],\n",
       "       [    0.29219,     0.38125],\n",
       "       [    0.28438,     0.38125],\n",
       "       [    0.28438,     0.41563],\n",
       "       [    0.28906,     0.41563],\n",
       "       [    0.29063,     0.41719],\n",
       "       [    0.29063,     0.41875],\n",
       "       [    0.29219,     0.42031],\n",
       "       [    0.29219,       0.425],\n",
       "       [    0.29375,     0.42656],\n",
       "       [    0.29375,     0.43125],\n",
       "       [    0.29531,     0.43281],\n",
       "       [    0.29531,     0.43594],\n",
       "       [    0.29688,      0.4375],\n",
       "       [    0.29688,     0.44375],\n",
       "       [    0.29844,     0.44531],\n",
       "       [    0.29844,        0.45],\n",
       "       [        0.3,     0.45156],\n",
       "       [        0.3,     0.45312],\n",
       "       [    0.30156,     0.45469],\n",
       "       [    0.30156,     0.45781],\n",
       "       [    0.30312,     0.45937],\n",
       "       [    0.30312,     0.46406],\n",
       "       [    0.30469,     0.46562],\n",
       "       [    0.30469,     0.47031],\n",
       "       [    0.30625,     0.47188],\n",
       "       [    0.30625,       0.475],\n",
       "       [    0.30781,     0.47656],\n",
       "       [    0.30781,     0.48125],\n",
       "       [    0.30937,     0.48281],\n",
       "       [    0.30937,      0.4875],\n",
       "       [    0.31094,     0.48906],\n",
       "       [    0.31094,     0.49062],\n",
       "       [     0.3125,     0.49219],\n",
       "       [     0.3125,     0.49375],\n",
       "       [    0.31406,     0.49531],\n",
       "       [    0.31406,     0.49687],\n",
       "       [    0.31563,     0.49844],\n",
       "       [    0.31563,         0.5],\n",
       "       [    0.31719,     0.50156],\n",
       "       [    0.31719,     0.50469],\n",
       "       [    0.31875,     0.50625],\n",
       "       [    0.31875,     0.50937],\n",
       "       [    0.32031,     0.51094],\n",
       "       [    0.32031,     0.51562],\n",
       "       [    0.32188,     0.51719],\n",
       "       [    0.32188,       0.525],\n",
       "       [    0.32344,     0.52656],\n",
       "       [    0.32344,     0.53281],\n",
       "       [      0.325,     0.53438],\n",
       "       [      0.325,     0.53906],\n",
       "       [    0.32656,     0.54062],\n",
       "       [    0.32656,     0.54531],\n",
       "       [    0.32812,     0.54688],\n",
       "       [    0.32812,        0.55],\n",
       "       [    0.32969,        0.55],\n",
       "       [    0.33125,     0.55156],\n",
       "       [    0.33125,     0.55781],\n",
       "       [    0.33594,     0.55781],\n",
       "       [    0.33594,     0.55313],\n",
       "       [     0.3375,     0.55156],\n",
       "       [    0.33906,     0.55156],\n",
       "       [    0.34062,        0.55],\n",
       "       [    0.34219,        0.55],\n",
       "       [    0.34375,     0.54844],\n",
       "       [    0.34688,     0.54844],\n",
       "       [    0.34844,     0.54688],\n",
       "       [       0.35,     0.54688],\n",
       "       [    0.35156,     0.54531],\n",
       "       [    0.35469,     0.54531],\n",
       "       [    0.35625,     0.54375],\n",
       "       [    0.35938,     0.54375],\n",
       "       [    0.36094,     0.54219],\n",
       "       [    0.36406,     0.54219],\n",
       "       [    0.36562,     0.54062],\n",
       "       [    0.37031,     0.54062],\n",
       "       [    0.37187,     0.53906],\n",
       "       [      0.375,     0.53906],\n",
       "       [    0.37656,      0.5375],\n",
       "       [    0.37969,      0.5375],\n",
       "       [    0.38125,     0.53594],\n",
       "       [    0.38281,     0.53594],\n",
       "       [    0.38438,     0.53438],\n",
       "       [     0.3875,     0.53438],\n",
       "       [    0.38906,     0.53281],\n",
       "       [    0.39375,     0.53281],\n",
       "       [    0.39531,     0.53125],\n",
       "       [    0.39844,     0.53125],\n",
       "       [        0.4,     0.52969],\n",
       "       [    0.40312,     0.52969],\n",
       "       [    0.40469,     0.52812],\n",
       "       [    0.40781,     0.52812],\n",
       "       [    0.40938,     0.52656],\n",
       "       [     0.4125,     0.52656],\n",
       "       [    0.41406,       0.525],\n",
       "       [    0.41563,       0.525],\n",
       "       [    0.41719,     0.52344],\n",
       "       [    0.42031,     0.52344],\n",
       "       [    0.42188,     0.52188],\n",
       "       [      0.425,     0.52188],\n",
       "       [    0.42656,     0.52031],\n",
       "       [    0.42969,     0.52031],\n",
       "       [    0.43125,     0.51875],\n",
       "       [    0.43437,     0.51875],\n",
       "       [    0.43594,     0.51719],\n",
       "       [    0.43906,     0.51719],\n",
       "       [    0.44063,     0.51562],\n",
       "       [    0.44375,     0.51562],\n",
       "       [    0.44531,     0.51406],\n",
       "       [       0.45,     0.51406],\n",
       "       [    0.45156,      0.5125],\n",
       "       [    0.45625,      0.5125],\n",
       "       [    0.45781,     0.51094],\n",
       "       [     0.4625,     0.51094],\n",
       "       [    0.46406,     0.50937],\n",
       "       [    0.46875,     0.50937],\n",
       "       [    0.47031,     0.50781],\n",
       "       [    0.47656,     0.50781],\n",
       "       [    0.47813,     0.50625],\n",
       "       [    0.48594,     0.50625],\n",
       "       [     0.4875,     0.50469],\n",
       "       [    0.49375,     0.50469],\n",
       "       [    0.49531,     0.50313],\n",
       "       [    0.50313,     0.50313],\n",
       "       [    0.50469,     0.50156],\n",
       "       [    0.50625,     0.50156],\n",
       "       [    0.50937,     0.49844],\n",
       "       [    0.51406,     0.49844],\n",
       "       [    0.51406,     0.49219],\n",
       "       [    0.50937,     0.49219],\n",
       "       [    0.50781,     0.49062],\n",
       "       [    0.50781,     0.48906],\n",
       "       [    0.50625,      0.4875],\n",
       "       [    0.50625,     0.48438],\n",
       "       [    0.50469,     0.48281],\n",
       "       [    0.50469,     0.47969],\n",
       "       [    0.50313,     0.47813],\n",
       "       [    0.50313,     0.47344],\n",
       "       [    0.50156,     0.47188],\n",
       "       [    0.50156,     0.46875],\n",
       "       [        0.5,     0.46719],\n",
       "       [        0.5,     0.46406],\n",
       "       [    0.49844,      0.4625],\n",
       "       [    0.49844,     0.45937],\n",
       "       [    0.49687,     0.45781],\n",
       "       [    0.49687,     0.45469],\n",
       "       [    0.49531,     0.45312],\n",
       "       [    0.49531,     0.44844],\n",
       "       [    0.49375,     0.44688],\n",
       "       [    0.49375,     0.44219],\n",
       "       [    0.49219,     0.44063],\n",
       "       [    0.49219,      0.4375],\n",
       "       [    0.49062,     0.43594],\n",
       "       [    0.49062,     0.43125],\n",
       "       [    0.48906,     0.42969],\n",
       "       [    0.48906,       0.425],\n",
       "       [     0.4875,     0.42344],\n",
       "       [     0.4875,     0.42031],\n",
       "       [    0.48594,     0.41875],\n",
       "       [    0.48594,     0.41563],\n",
       "       [    0.48438,     0.41406],\n",
       "       [    0.48438,     0.40938],\n",
       "       [    0.48281,     0.40781],\n",
       "       [    0.48281,     0.40469],\n",
       "       [    0.48125,     0.40312],\n",
       "       [    0.48125,     0.39844],\n",
       "       [    0.47969,     0.39687],\n",
       "       [    0.47969,     0.39375],\n",
       "       [    0.47813,     0.39219],\n",
       "       [    0.47813,      0.3875],\n",
       "       [    0.47656,     0.38594],\n",
       "       [    0.47656,     0.38281],\n",
       "       [      0.475,     0.38125],\n",
       "       [      0.475,     0.37813],\n",
       "       [    0.47344,     0.37656],\n",
       "       [    0.47344,     0.37344],\n",
       "       [    0.47188,     0.37187],\n",
       "       [    0.47188,     0.36875],\n",
       "       [    0.47031,     0.36719],\n",
       "       [    0.47031,      0.3625],\n",
       "       [    0.46875,     0.36094],\n",
       "       [    0.46875,     0.35625],\n",
       "       [    0.46719,     0.35469],\n",
       "       [    0.46719,        0.35],\n",
       "       [    0.46562,     0.34844],\n",
       "       [    0.46562,     0.34219],\n",
       "       [    0.46406,     0.34062],\n",
       "       [    0.46406,     0.33594],\n",
       "       [     0.4625,     0.33437],\n",
       "       [     0.4625,     0.32812]], dtype=float32)]"
      ]
     },
     "execution_count": 15,
     "metadata": {},
     "output_type": "execute_result"
    }
   ],
   "source": [
    "results[0].masks[0]"
   ]
  },
  {
   "cell_type": "code",
   "execution_count": null,
   "id": "1e52f216",
   "metadata": {},
   "outputs": [],
   "source": []
  },
  {
   "cell_type": "code",
   "execution_count": null,
   "id": "b6d836f1",
   "metadata": {},
   "outputs": [],
   "source": []
  },
  {
   "cell_type": "markdown",
   "id": "ad6a1c68",
   "metadata": {},
   "source": [
    "# 02 - Extract segmentation masks"
   ]
  },
  {
   "cell_type": "markdown",
   "id": "db7327ef",
   "metadata": {},
   "source": [
    "Export ONXX for Deepness  \n",
    "https://qgis-plugin-deepness.readthedocs.io/en/latest/"
   ]
  },
  {
   "cell_type": "code",
   "execution_count": null,
   "id": "78aa538c",
   "metadata": {},
   "outputs": [],
   "source": []
  },
  {
   "cell_type": "code",
   "execution_count": null,
   "id": "1de519c0",
   "metadata": {},
   "outputs": [],
   "source": []
  },
  {
   "cell_type": "code",
   "execution_count": 11,
   "id": "ac8a20ef",
   "metadata": {},
   "outputs": [],
   "source": [
    "masks = results[1].masks  # ultralytics.engine.results.Masks object\n",
    "classes = results[1].boxes.cls.int()  # Tensor of class indices for each mask\n",
    "num_classes = int(classes.max().item()) + 1  # Or set manually if known\n",
    "\n",
    "# masks.data: (num_instances, H, W)\n",
    "mask_data = masks.data  # shape: (num_instances, H, W)\n",
    "H, W = mask_data.shape[1:]\n",
    "\n",
    "# Create one-hot tensor: (num_classes, H, W)\n",
    "onehot = torch.zeros((num_classes, H, W), dtype=torch.uint8)\n",
    "\n",
    "for idx, class_idx in enumerate(classes):\n",
    "    onehot[class_idx] |= (mask_data[idx] > 0).byte()"
   ]
  },
  {
   "cell_type": "code",
   "execution_count": 8,
   "id": "30e4be97",
   "metadata": {},
   "outputs": [
    {
     "data": {
      "text/plain": [
       "torch.Size([1, 640, 640])"
      ]
     },
     "execution_count": 8,
     "metadata": {},
     "output_type": "execute_result"
    }
   ],
   "source": [
    "onehot.shape"
   ]
  },
  {
   "cell_type": "code",
   "execution_count": 10,
   "id": "2f0f1eb0",
   "metadata": {},
   "outputs": [
    {
     "name": "stdout",
     "output_type": "stream",
     "text": [
      "Saved onehot_masks\\class_0.tiff\n"
     ]
    }
   ],
   "source": [
    "# save the one-hot encoded masks as tiff files\n",
    "output_dir = Path('onehot_masks')\n",
    "output_dir.mkdir(exist_ok=True)\n",
    "for i, mask in enumerate(onehot):\n",
    "    class_name = f'class_{i}'\n",
    "    output_path = output_dir / f'{class_name}.tiff'\n",
    "    transforms.ToPILImage()(mask).save(output_path, format='TIFF')\n",
    "    print(f'Saved {output_path}')"
   ]
  },
  {
   "cell_type": "code",
   "execution_count": 9,
   "id": "309d4a98",
   "metadata": {},
   "outputs": [
    {
     "data": {
      "image/png": "[encoded data removed]",
      "text/plain": [
       "<Figure size 1200x600 with 1 Axes>"
      ]
     },
     "metadata": {},
     "output_type": "display_data"
    }
   ],
   "source": [
    "# plot the one-hot encoded masks\n",
    "import matplotlib.pyplot as plt\n",
    "\n",
    "plt.figure(figsize=(12, 6))\n",
    "for i in range(num_classes):\n",
    "    plt.subplot(1, num_classes, i + 1)\n",
    "    plt.imshow(onehot[i].cpu().numpy(), cmap='gray')\n",
    "    plt.title(f'Class {i}')\n",
    "    plt.axis('off')"
   ]
  },
  {
   "cell_type": "code",
   "execution_count": null,
   "id": "fcf5da0a",
   "metadata": {},
   "outputs": [],
   "source": []
  },
  {
   "cell_type": "code",
   "execution_count": null,
   "id": "bb164cff",
   "metadata": {},
   "outputs": [],
   "source": []
  },
  {
   "cell_type": "code",
   "execution_count": null,
   "id": "c8cace6d",
   "metadata": {},
   "outputs": [],
   "source": [
    "results[0].masks"
   ]
  },
  {
   "cell_type": "code",
   "execution_count": null,
   "id": "3bd4346d",
   "metadata": {},
   "outputs": [],
   "source": []
  },
  {
   "cell_type": "code",
   "execution_count": null,
   "id": "2e7aa98a",
   "metadata": {},
   "outputs": [],
   "source": []
  },
  {
   "cell_type": "markdown",
   "id": "3c7d7e0e",
   "metadata": {},
   "source": [
    "## Extract model to PyTorch"
   ]
  },
  {
   "cell_type": "code",
   "execution_count": null,
   "id": "18d9d243",
   "metadata": {},
   "outputs": [],
   "source": [
    "# Load the image\n",
    "image = Image.open('test_image.png').convert('RGB')\n",
    "\n",
    "# Transorm image to tensor\n",
    "image_to_tensor = transforms.ToTensor()\n",
    "image_tensor = image_to_tensor(image).unsqueeze(0)  # add batch dimension\n",
    "\n",
    "print(f'Shape: {image_tensor.shape}')\n",
    "print(f'Values (min/max): {image_tensor.min(), image_tensor.max()}')"
   ]
  },
  {
   "cell_type": "code",
   "execution_count": null,
   "id": "a6313ed5",
   "metadata": {},
   "outputs": [],
   "source": [
    "# Extract the pytorch model\n",
    "pytorch_model = model.model"
   ]
  },
  {
   "cell_type": "code",
   "execution_count": null,
   "id": "8bd474f8",
   "metadata": {},
   "outputs": [],
   "source": [
    "# Make predictions using the pytorch model\n",
    "pred = pytorch_model(image_tensor)"
   ]
  },
  {
   "cell_type": "code",
   "execution_count": null,
   "id": "5913383f",
   "metadata": {},
   "outputs": [],
   "source": [
    "pytorch_model"
   ]
  },
  {
   "cell_type": "markdown",
   "id": "0d64d11e",
   "metadata": {},
   "source": [
    "### Explore model output"
   ]
  },
  {
   "cell_type": "code",
   "execution_count": null,
   "id": "33127352",
   "metadata": {},
   "outputs": [],
   "source": [
    "type(pred), len(pred)"
   ]
  },
  {
   "cell_type": "code",
   "execution_count": null,
   "id": "e04236ae",
   "metadata": {},
   "outputs": [],
   "source": [
    "# Check the object in tuple\n",
    "for i in pred:\n",
    "    print(type(i), len(i))"
   ]
  },
  {
   "cell_type": "code",
   "execution_count": null,
   "id": "814d70e2",
   "metadata": {},
   "outputs": [],
   "source": [
    "# First object in tuple\n",
    "pred[0].shape"
   ]
  },
  {
   "cell_type": "code",
   "execution_count": null,
   "id": "91e04b4c",
   "metadata": {},
   "outputs": [],
   "source": [
    "# Check the objects in the tuple\n",
    "for i in pred[1]:\n",
    "    print(type(i), len(i))"
   ]
  },
  {
   "cell_type": "code",
   "execution_count": null,
   "id": "c195d04e",
   "metadata": {},
   "outputs": [],
   "source": [
    "# Check the content in the list\n",
    "for i in pred[1][0]:\n",
    "    print(type(i), len(i), i.shape)"
   ]
  },
  {
   "cell_type": "code",
   "execution_count": null,
   "id": "6d580696",
   "metadata": {},
   "outputs": [],
   "source": [
    "pred[1][1].shape, pred[1][2].shape"
   ]
  },
  {
   "cell_type": "code",
   "execution_count": null,
   "id": "b59bc0bb",
   "metadata": {},
   "outputs": [],
   "source": []
  },
  {
   "cell_type": "markdown",
   "id": "cc35f972",
   "metadata": {},
   "source": [
    "## Export model to ONNX"
   ]
  },
  {
   "cell_type": "code",
   "execution_count": null,
   "id": "6706d63a",
   "metadata": {},
   "outputs": [],
   "source": [
    "# Load the model\n",
    "path_to_model = 'C:/Users/thoma/Documents/GitHub/WING_YOLO/runs/segment/RUN_10/weights/best.pt'\n",
    "model = YOLO(path_to_model)\n",
    "\n",
    "# Export the model to ONNX format\n",
    "model.export(\n",
    "    format='onnx',\n",
    "    dynamic=True,\n",
    "    simplify=True)"
   ]
  },
  {
   "cell_type": "code",
   "execution_count": null,
   "id": "3b449de1",
   "metadata": {},
   "outputs": [],
   "source": [
    "import onnx\n",
    "import onnxruntime\n",
    "\n",
    "# Load the ONNX model\n",
    "onnx_path = 'C:/Users/thoma/Documents/GitHub/WING_YOLO/runs/segment/RUN_10/weights/best.onnx'\n",
    "onnx_model = onnx.load(onnx_path)\n",
    "\n",
    "# Check the model\n",
    "onnx.checker.check_model(onnx_model)\n",
    "\n",
    "# Create an inference session using ONNX Runtime\n",
    "ort_session = onnxruntime.InferenceSession(onnx_path)\n",
    "\n",
    "def to_numpy(tensor):\n",
    "\treturn tensor.detach().cpu().numpy() if tensor.requires_grad else tensor.cpu().numpy()\n",
    "\n",
    "# Make predictions with the ONNX model\n",
    "ort_inputs = {ort_session.get_inputs()[0].name: to_numpy(image_tensor)}\n",
    "ort_outs = ort_session.run(None, ort_inputs)\n",
    "\n",
    "# Print the results\n",
    "type(ort_outs), len(ort_outs)"
   ]
  },
  {
   "cell_type": "code",
   "execution_count": null,
   "id": "8f887231",
   "metadata": {},
   "outputs": [],
   "source": [
    "ort_outs[0].shape, ort_outs[1].shape"
   ]
  },
  {
   "cell_type": "code",
   "execution_count": null,
   "id": "1f58717e",
   "metadata": {},
   "outputs": [],
   "source": []
  },
  {
   "cell_type": "code",
   "execution_count": null,
   "id": "d7a7fccd",
   "metadata": {},
   "outputs": [],
   "source": []
  },
  {
   "cell_type": "code",
   "execution_count": null,
   "id": "8c5d09df",
   "metadata": {},
   "outputs": [],
   "source": []
  },
  {
   "cell_type": "code",
   "execution_count": null,
   "id": "ee2bc9f9",
   "metadata": {},
   "outputs": [],
   "source": []
  },
  {
   "cell_type": "code",
   "execution_count": null,
   "id": "906c1238",
   "metadata": {},
   "outputs": [],
   "source": [
    "# Make predictions on a random tensor\n",
    "x = torch.rand(1, 3, 640, 640)\n",
    "_ = model(x)"
   ]
  },
  {
   "cell_type": "code",
   "execution_count": null,
   "id": "baf5ecca",
   "metadata": {},
   "outputs": [],
   "source": [
    "torch.onnx.export(\n",
    "    pytorch_model,\n",
    "                x,  # model input\n",
    "                'model.onnx',  # where to save the model\n",
    "                export_params=True,\n",
    "                opset_version=15,\n",
    "                input_names=['input'],\n",
    "                output_names=['output'],\n",
    "                do_constant_folding=False)"
   ]
  },
  {
   "cell_type": "code",
   "execution_count": null,
   "id": "0e8bf781",
   "metadata": {},
   "outputs": [],
   "source": []
  }
 ],
 "metadata": {
  "kernelspec": {
   "display_name": ".venv",
   "language": "python",
   "name": "python3"
  },
  "language_info": {
   "codemirror_mode": {
    "name": "ipython",
    "version": 3
   },
   "file_extension": ".py",
   "mimetype": "text/x-python",
   "name": "python",
   "nbconvert_exporter": "python",
   "pygments_lexer": "ipython3",
   "version": "3.12.4"
  }
 },
 "nbformat": 4,
 "nbformat_minor": 5
}
