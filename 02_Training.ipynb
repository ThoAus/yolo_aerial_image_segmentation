{
 "cells": [
  {
   "cell_type": "markdown",
   "id": "d0339b03",
   "metadata": {},
   "source": [
    "# 00 - Preparations"
   ]
  },
  {
   "cell_type": "code",
   "execution_count": null,
   "id": "e944b476",
   "metadata": {},
   "outputs": [],
   "source": [
    "import torch\n",
    "from ultralytics import YOLO"
   ]
  },
  {
   "cell_type": "markdown",
   "id": "acec8ac4",
   "metadata": {},
   "source": [
    "# 01 - Training\n",
    "\n",
    "https://docs.ultralytics.com/modes/train/#train-settings"
   ]
  },
  {
   "cell_type": "code",
   "execution_count": null,
   "id": "fd8f55b4",
   "metadata": {},
   "outputs": [],
   "source": [
    "# Load the YOLO model as a starting point\n",
    "model = YOLO(\"yolo11s-seg.pt\")\n",
    "\n",
    "# Train the model on the dataset\n",
    "results = model.train(\n",
    "    data=\"config/config_train.yaml\",\n",
    "    epochs=200,\n",
    "    patience=0,\n",
    "    project='models',\n",
    "    name='yolo11s_250imgs_200epochs',\n",
    "    device=[-1, -1],\n",
    "    )"
   ]
  },
  {
   "cell_type": "markdown",
   "id": "ffe06a39",
   "metadata": {},
   "source": [
    "# 02 - Test model on image"
   ]
  },
  {
   "cell_type": "code",
   "execution_count": null,
   "id": "26250d48",
   "metadata": {},
   "outputs": [],
   "source": [
    "# Load the best model from training\n",
    "best_model = YOLO(\"runs/segment/train/weights/best.pt\")"
   ]
  },
  {
   "cell_type": "code",
   "execution_count": null,
   "id": "fcb6ba22",
   "metadata": {},
   "outputs": [],
   "source": [
    "# Inference on an image\n",
    "results = best_model.predict(\n",
    "    source=\"test_image.png\",\n",
    "    save=True,\n",
    "    #show_boxes=False,\n",
    "    )"
   ]
  },
  {
   "cell_type": "markdown",
   "id": "3636be3f",
   "metadata": {},
   "source": [
    "# 03 - Import annotation as tensor"
   ]
  },
  {
   "cell_type": "code",
   "execution_count": 7,
   "id": "27a461c1",
   "metadata": {},
   "outputs": [],
   "source": [
    "import numpy as np\n",
    "import torch\n",
    "from PIL import Image, ImageDraw\n",
    "import matplotlib.pyplot as plt"
   ]
  },
  {
   "cell_type": "code",
   "execution_count": 2,
   "id": "83362f4f",
   "metadata": {},
   "outputs": [],
   "source": [
    "def load_yolo_polygon_mask_onehot(txt_path, img_path, num_classes):\n",
    "    img = Image.open(img_path)\n",
    "    w, h = img.size\n",
    "    mask = np.zeros((num_classes, h, w), dtype=np.uint8)\n",
    "\n",
    "    with open(txt_path, 'r') as f:\n",
    "        for line in f:\n",
    "            parts = line.strip().split()\n",
    "            cls = int(parts[0])\n",
    "            coords = list(map(float, parts[1:]))\n",
    "            xy = [(coords[i]*w, coords[i+1]*h) for i in range(0, len(coords), 2)]\n",
    "            img_mask = Image.new('L', (w, h), 0)\n",
    "            ImageDraw.Draw(img_mask).polygon(xy, outline=1, fill=1)\n",
    "            mask[cls] = np.maximum(mask[cls], np.array(img_mask))\n",
    "\n",
    "    return torch.from_numpy(mask)"
   ]
  },
  {
   "cell_type": "code",
   "execution_count": 3,
   "id": "2ff4f835",
   "metadata": {},
   "outputs": [
    {
     "name": "stdout",
     "output_type": "stream",
     "text": [
      "torch.Size([2, 640, 640])\n"
     ]
    }
   ],
   "source": [
    "# Example usage:\n",
    "txt_path = \"dataset/labels/train/0dd04bcc-1345605_5914635.txt\"\n",
    "img_path = \"dataset/images/train/0dd04bcc-1345605_5914635.jpg\"  # Adjust extension if needed\n",
    "num_classes = 2  # Set to the number of classes in your dataset\n",
    "mask_tensor = load_yolo_polygon_mask_onehot(txt_path, img_path, num_classes)\n",
    "print(mask_tensor.shape)  # (num_classes, H, W)"
   ]
  },
  {
   "cell_type": "code",
   "execution_count": 9,
   "id": "0ee50869",
   "metadata": {},
   "outputs": [
    {
     "data": {
      "image/png": "[encoded data removed]",
      "text/plain": [
       "<Figure size 640x480 with 2 Axes>"
      ]
     },
     "metadata": {},
     "output_type": "display_data"
    }
   ],
   "source": [
    "# Plot the mask for visualization\n",
    "def plot_mask(mask_tensor):\n",
    "    num_classes, h, w = mask_tensor.shape\n",
    "    fig, axes = plt.subplots(1, num_classes)\n",
    "    \n",
    "    for i in range(num_classes):\n",
    "        axes[i].imshow(mask_tensor[i].numpy(), cmap='gray')\n",
    "        axes[i].set_title(f'Class {i}')\n",
    "        axes[i].axis('off')\n",
    "    \n",
    "    plt.tight_layout()\n",
    "    plt.show()\n",
    "\n",
    "plot_mask(mask_tensor)"
   ]
  },
  {
   "cell_type": "code",
   "execution_count": null,
   "id": "bdceef91",
   "metadata": {},
   "outputs": [],
   "source": []
  },
  {
   "cell_type": "code",
   "execution_count": null,
   "id": "5d522527",
   "metadata": {},
   "outputs": [],
   "source": []
  },
  {
   "cell_type": "code",
   "execution_count": null,
   "id": "4e4ed98c",
   "metadata": {},
   "outputs": [],
   "source": []
  }
 ],
 "metadata": {
  "kernelspec": {
   "display_name": ".venv",
   "language": "python",
   "name": "python3"
  },
  "language_info": {
   "codemirror_mode": {
    "name": "ipython",
    "version": 3
   },
   "file_extension": ".py",
   "mimetype": "text/x-python",
   "name": "python",
   "nbconvert_exporter": "python",
   "pygments_lexer": "ipython3",
   "version": "3.13.1"
  }
 },
 "nbformat": 4,
 "nbformat_minor": 5
}
